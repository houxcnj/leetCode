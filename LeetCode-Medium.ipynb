{
 "cells": [
  {
   "cell_type": "markdown",
   "metadata": {},
   "source": [
    "# 338 Counting Bits (Apr 9th)\n",
    "\n",
    "Given a non negative integer number num. For every numbers i in the range 0 ≤ i ≤ num calculate the number of 1's in their binary representation and return them as an array.\n",
    "\n",
    "Example:\n",
    "For num = 5 you should return [0,1,1,2,1,2].\n",
    "\n",
    "Follow up:\n",
    "\n",
    "It is very easy to come up with a solution with run time O(n*sizeof(integer)). But can you do it in linear time O(n) /possibly in a single pass?\n",
    "\n",
    "Space complexity should be O(n).\n",
    "\n",
    "Can you do it like a boss? Do it without using any builtin function like __builtin_popcount in c++ or in any other language.\n",
    "\n",
    "Hint:\n",
    "\n",
    "You should make use of what you have produced already.\n",
    "Divide the numbers in ranges like [2-3], [4-7], [8-15] and so on. And try to generate new range from previous.\n",
    "Or does the odd/even status of the number help you in calculating the number of 1s?"
   ]
  },
  {
   "cell_type": "code",
   "execution_count": 6,
   "metadata": {
    "collapsed": false
   },
   "outputs": [],
   "source": [
    "def countBits(num):\n",
    "    \"\"\"\n",
    "    :type num: int\n",
    "    :rtype: List[int]\n",
    "    \"\"\"\n",
    "    # naive way\n",
    "    res = []\n",
    "    \"\"\"\n",
    "    for n in range(num+1):\n",
    "        count = 0\n",
    "        for i in \"{0:b}\".format(n):\n",
    "            if i == '1':\n",
    "                count += 1\n",
    "        res.append(count)\n",
    "    \"\"\"\n",
    "    # method 2: DP faster\n",
    "    for n in range(num+1):\n",
    "        if n == 0:\n",
    "            res.append(0)\n",
    "            continue\n",
    "        \n",
    "        res.append(res[n/2] + n%2)\n",
    "        # same method but use bitwise operator faster than above\n",
    "        # res.append(res[n>>1] + (n&1))\n",
    "    return res"
   ]
  },
  {
   "cell_type": "code",
   "execution_count": 7,
   "metadata": {
    "collapsed": false
   },
   "outputs": [
    {
     "data": {
      "text/plain": [
       "[0, 1, 1, 2, 1, 2, 2, 3, 1, 2, 2]"
      ]
     },
     "execution_count": 7,
     "metadata": {},
     "output_type": "execute_result"
    }
   ],
   "source": [
    "countBits(10)"
   ]
  },
  {
   "cell_type": "markdown",
   "metadata": {},
   "source": [
    "Using DP: https://leetcode.com/discuss/92675/handle-this-question-interview-thinking-process-solution,\n",
    "https://leetcode.com/discuss/92609/three-line-java-solution"
   ]
  },
  {
   "cell_type": "markdown",
   "metadata": {},
   "source": [
    "# 122 Best Time to Buy and Sell Stock II (Apr 9th)\n",
    "\n",
    "Say you have an array for which the ith element is the price of a given stock on day i.\n",
    "\n",
    "Design an algorithm to find the maximum profit. You may complete as many transactions as you like (ie, buy one and sell one share of the stock multiple times). However, you may not engage in multiple transactions at the same time (ie, you must sell the stock before you buy again)."
   ]
  },
  {
   "cell_type": "code",
   "execution_count": 8,
   "metadata": {
    "collapsed": true
   },
   "outputs": [],
   "source": [
    "def maxProfit(prices):\n",
    "    \"\"\"\n",
    "    :type prices: List[int]\n",
    "    :rtype: int\n",
    "    \"\"\"\n",
    "    return sum([y-x for x, y in zip(prices[:-1], prices[1:]) if x<y])"
   ]
  },
  {
   "cell_type": "code",
   "execution_count": 9,
   "metadata": {
    "collapsed": false
   },
   "outputs": [
    {
     "data": {
      "text/plain": [
       "52"
      ]
     },
     "execution_count": 9,
     "metadata": {},
     "output_type": "execute_result"
    }
   ],
   "source": [
    "maxProfit([1,3,2,4,9,5,18,15,14,13,12,19,30,22,34])"
   ]
  },
  {
   "cell_type": "markdown",
   "metadata": {},
   "source": [
    "The solution and explanation: https://leetcode.com/discuss/25901/my-1-line-python-solution\n",
    "Great discussion: https://leetcode.com/discuss/2012/is-this-question-a-joke"
   ]
  },
  {
   "cell_type": "markdown",
   "metadata": {},
   "source": [
    "# 121 Best Time to Buy and Sell Stock (Apr 10th)\n",
    "\n",
    "Say you have an array for which the ith element is the price of a given stock on day i.\n",
    "\n",
    "If you were only permitted to complete at most one transaction (ie, buy one and sell one share of the stock), design an algorithm to find the maximum profit."
   ]
  },
  {
   "cell_type": "code",
   "execution_count": 13,
   "metadata": {
    "collapsed": true
   },
   "outputs": [],
   "source": [
    "def maxProfit(prices):\n",
    "    \"\"\"\n",
    "    :type prices: List[int]\n",
    "    :rtype: int\n",
    "    \"\"\"\n",
    "    # naive way cannot be accpetted\n",
    "    curMax = 0\n",
    "    \"\"\"\n",
    "    for i in range(len(prices)):\n",
    "        j = i\n",
    "        while j < len(prices):\n",
    "            if prices[j] > prices[i] and prices[j] - prices[i] > curMax:\n",
    "                curMax = prices[j] - prices[i]\n",
    "            j += 1\n",
    "    \"\"\"        \n",
    "    if not prices:\n",
    "        return 0\n",
    "    curMin = prices[0]\n",
    "    for i in range(1,len(prices)):\n",
    "        if prices[i] <  curMin:\n",
    "            curMin = prices[i]\n",
    "        else:\n",
    "            if prices[i]-curMin > curMax:\n",
    "                curMax = prices[i]-curMin\n",
    "    return curMax"
   ]
  },
  {
   "cell_type": "code",
   "execution_count": 14,
   "metadata": {
    "collapsed": false
   },
   "outputs": [
    {
     "data": {
      "text/plain": [
       "401"
      ]
     },
     "execution_count": 14,
     "metadata": {},
     "output_type": "execute_result"
    }
   ],
   "source": [
    "maxProfit([1000,1400,999,1121,1119,1321,1400,1256,1336])"
   ]
  },
  {
   "cell_type": "markdown",
   "metadata": {},
   "source": [
    "The second way is O(n)."
   ]
  },
  {
   "cell_type": "markdown",
   "metadata": {},
   "source": [
    "# 319 Bulb Switcher (Apr 10th)\n",
    "\n",
    "There are n bulbs that are initially off. You first turn on all the bulbs. Then, you turn off every second bulb. On the third round, you toggle every third bulb (turning on if it's off or turning off if it's on). For the ith round, you toggle every i bulb. For the nth round, you only toggle the last bulb. Find how many bulbs are on after n rounds.\n",
    "\n",
    "Example:\n",
    "\n",
    "Given n = 3. \n",
    "\n",
    "At first, the three bulbs are [off, off, off].\n",
    "After first round, the three bulbs are [on, on, on].\n",
    "After second round, the three bulbs are [on, off, on].\n",
    "After third round, the three bulbs are [on, off, off]. \n",
    "\n",
    "So you should return 1, because there is only one bulb is on."
   ]
  },
  {
   "cell_type": "code",
   "execution_count": 16,
   "metadata": {
    "collapsed": true
   },
   "outputs": [],
   "source": [
    "def bulbSwitch(n):\n",
    "    \"\"\"\n",
    "    :type n: int\n",
    "    :rtype: int\n",
    "    \"\"\"\n",
    "    return int(n**0.5)"
   ]
  },
  {
   "cell_type": "code",
   "execution_count": 17,
   "metadata": {
    "collapsed": false
   },
   "outputs": [
    {
     "data": {
      "text/plain": [
       "10"
      ]
     },
     "execution_count": 17,
     "metadata": {},
     "output_type": "execute_result"
    }
   ],
   "source": [
    "bulbSwitch(100)"
   ]
  },
  {
   "cell_type": "markdown",
   "metadata": {},
   "source": [
    "A math problem!!!!!!\n",
    "https://leetcode.com/discuss/91371/share-my-o-1-solution-with-explanation，\n",
    "https://leetcode.com/discuss/75014/math-solution\n",
    "我说要是naive的去解，不得O(nnnnnnnnn)啊！！！！！"
   ]
  },
  {
   "cell_type": "markdown",
   "metadata": {},
   "source": [
    "# 268 Missing Number (Apr 11th)\n",
    "\n",
    "Given an array containing n distinct numbers taken from 0, 1, 2, ..., n, find the one that is missing from the array.\n",
    "\n",
    "For example,\n",
    "Given nums = [0, 1, 3] return 2.\n",
    "\n",
    "Note:\n",
    "Your algorithm should run in linear runtime complexity. Could you implement it using only constant extra space complexity?"
   ]
  },
  {
   "cell_type": "code",
   "execution_count": 19,
   "metadata": {
    "collapsed": true
   },
   "outputs": [],
   "source": [
    "def missingNumber(nums):\n",
    "    \"\"\"\n",
    "    :type nums: List[int]\n",
    "    :rtype: int\n",
    "    \"\"\"\n",
    "    s = (1+len(nums))*len(nums)/2\n",
    "    return s-sum(nums)"
   ]
  },
  {
   "cell_type": "markdown",
   "metadata": {},
   "source": [
    "There are 3 methods. This is one of them. You have to figure out the other two solutions.\n",
    "https://leetcode.com/discuss/56174/3-different-ideas-xor-sum-binary-search-java-code,\n",
    "https://leetcode.com/discuss/53790/1-lines-ruby-python-java-c"
   ]
  },
  {
   "cell_type": "markdown",
   "metadata": {},
   "source": [
    "# 144 Binary Tree Preorder Traversal (Apr 11th)\n",
    "\n",
    "Given a binary tree, return the preorder traversal of its nodes' values.\n",
    "\n",
    "For example:\n",
    "Given binary tree {1,#,2,3},"
   ]
  },
  {
   "cell_type": "raw",
   "metadata": {},
   "source": [
    "   1\n",
    "    \\\n",
    "     2\n",
    "    /\n",
    "   3"
   ]
  },
  {
   "cell_type": "markdown",
   "metadata": {},
   "source": [
    "return [1,2,3].\n",
    "\n",
    "Note: Recursive solution is trivial, could you do it iteratively?"
   ]
  },
  {
   "cell_type": "code",
   "execution_count": 1,
   "metadata": {
    "collapsed": true
   },
   "outputs": [],
   "source": [
    "def preorderTraversal(root):\n",
    "    ret = []\n",
    "    stack = [root]\n",
    "    while stack:\n",
    "        node = stack.pop()\n",
    "        if node:\n",
    "            ret.append(node.val)\n",
    "            stack.append(node.right)\n",
    "            stack.append(node.left)\n",
    "    return ret"
   ]
  },
  {
   "cell_type": "markdown",
   "metadata": {},
   "source": [
    "https://leetcode.com/discuss/32904/3-different-solutions, great explanation: https://leetcode.com/discuss/9734/accepted-code-explaination-with-algo"
   ]
  },
  {
   "cell_type": "markdown",
   "metadata": {},
   "source": [
    "# 318 Maximum Product of Word Lengths (Apr 12th)\n",
    "\n",
    "Given a string array words, find the maximum value of length(word[i]) * length(word[j]) where the two words do not share common letters. You may assume that each word will contain only lower case letters. If no such two words exist, return 0.\n",
    "\n",
    "Example 1:\n",
    "\n",
    "Given [\"abcw\", \"baz\", \"foo\", \"bar\", \"xtfn\", \"abcdef\"]\n",
    "Return 16\n",
    "The two words can be \"abcw\", \"xtfn\".\n",
    "\n",
    "Example 2:\n",
    "\n",
    "Given [\"a\", \"ab\", \"abc\", \"d\", \"cd\", \"bcd\", \"abcd\"]\n",
    "Return 4\n",
    "The two words can be \"ab\", \"cd\".\n",
    "\n",
    "Example 3:\n",
    "\n",
    "Given [\"a\", \"aa\", \"aaa\", \"aaaa\"]\n",
    "Return 0\n",
    "No such pair of words."
   ]
  },
  {
   "cell_type": "code",
   "execution_count": 2,
   "metadata": {
    "collapsed": true
   },
   "outputs": [],
   "source": [
    "def maxProduct(words):\n",
    "    \"\"\"\n",
    "    :type words: List[str]\n",
    "    :rtype: int\n",
    "    \"\"\"\n",
    "    d = {sum(1 << ord(c)-97 for c in set(w)): len(w) for w in sorted(words, key = len)}.items()\n",
    "    return max([v*V for k, v in d for K, V in d if k & K] or [0])"
   ]
  },
  {
   "cell_type": "markdown",
   "metadata": {},
   "source": [
    "bitwise....\n",
    "https://leetcode.com/discuss/76617/a-two-line-python-solution-176-ms\n",
    "What's the regular solution?"
   ]
  },
  {
   "cell_type": "markdown",
   "metadata": {},
   "source": [
    "# 94 Binary Tree Inorder Traversal (Apr 12th)\n",
    "\n",
    "Given a binary tree, return the inorder traversal of its nodes' values.\n",
    "\n",
    "For example:\n",
    "Given binary tree {1,#,2,3},"
   ]
  },
  {
   "cell_type": "raw",
   "metadata": {},
   "source": [
    "   1\n",
    "    \\\n",
    "     2\n",
    "    /\n",
    "   3"
   ]
  },
  {
   "cell_type": "markdown",
   "metadata": {},
   "source": [
    "return [1,3,2]."
   ]
  },
  {
   "cell_type": "code",
   "execution_count": 3,
   "metadata": {
    "collapsed": true
   },
   "outputs": [],
   "source": [
    "# Definition for a binary tree node.\n",
    "class TreeNode(object):\n",
    "    def __init__(self, x):\n",
    "        self.val = x\n",
    "        self.left = None\n",
    "        self.right = None\n",
    "\n",
    "class Solution(object):\n",
    "    def inorderTraversal(self, root):\n",
    "        \"\"\"\n",
    "        :type root: TreeNode\n",
    "        :rtype: List[int]\n",
    "        \"\"\"\n",
    "        \"\"\"\n",
    "        res = []\n",
    "        self.inOrder(root, res)\n",
    "        return res\n",
    "        \n",
    "    def inOrder(self, root, res):\n",
    "        if root:\n",
    "            self.inOrder(root.left, res)\n",
    "            res.append(root.val)\n",
    "            self.inOrder(root.right, res)\n",
    "        \"\"\"\n",
    "        res, stack =[], []\n",
    "        while stack or root:\n",
    "            if root:\n",
    "                stack.append(root)\n",
    "                root = root.left\n",
    "            else:\n",
    "                node = stack.pop()\n",
    "                res.append(node.val)\n",
    "                root = node.right\n",
    "        return res"
   ]
  },
  {
   "cell_type": "markdown",
   "metadata": {},
   "source": [
    "Recursive way is straight according to its defination. https://en.wikipedia.org/wiki/Tree_traversal#Pre-order\n",
    "The key of interative way is to use a stack to store the node. "
   ]
  },
  {
   "cell_type": "markdown",
   "metadata": {},
   "source": [
    "# 12 Integer to Roman (Apr 12th)\n",
    "\n",
    "Given an integer, convert it to a roman numeral.\n",
    "\n",
    "Input is guaranteed to be within the range from 1 to 3999."
   ]
  },
  {
   "cell_type": "code",
   "execution_count": 5,
   "metadata": {
    "collapsed": true
   },
   "outputs": [],
   "source": [
    "def intToRoman(num):\n",
    "    \"\"\"\n",
    "    :type num: int\n",
    "    :rtype: str\n",
    "    \"\"\"\n",
    "    M = [\"\", \"M\", \"MM\", \"MMM\"];\n",
    "    C = [\"\", \"C\", \"CC\", \"CCC\", \"CD\", \"D\", \"DC\", \"DCC\", \"DCCC\", \"CM\"]\n",
    "    X = [\"\", \"X\", \"XX\", \"XXX\", \"XL\", \"L\", \"LX\", \"LXX\", \"LXXX\", \"XC\"]\n",
    "    I = [\"\", \"I\", \"II\", \"III\", \"IV\", \"V\", \"VI\", \"VII\", \"VIII\", \"IX\"]\n",
    "    return M[num/1000] + C[(num%1000)/100] + X[(num%100)/10] + I[num%10]"
   ]
  },
  {
   "cell_type": "code",
   "execution_count": 6,
   "metadata": {
    "collapsed": false
   },
   "outputs": [
    {
     "data": {
      "text/plain": [
       "'MMCCCXXXIII'"
      ]
     },
     "execution_count": 6,
     "metadata": {},
     "output_type": "execute_result"
    }
   ],
   "source": [
    "intToRoman(2333)"
   ]
  },
  {
   "cell_type": "markdown",
   "metadata": {},
   "source": [
    "Any other solutions?"
   ]
  },
  {
   "cell_type": "markdown",
   "metadata": {},
   "source": [
    "# 137 Single Number II (Apr 12th)\n",
    "\n",
    "Given an array of integers, every element appears three times except for one. Find that single one.\n",
    "\n",
    "Note:\n",
    "\n",
    "Your algorithm should have a linear runtime complexity. Could you implement it without using extra memory?"
   ]
  },
  {
   "cell_type": "code",
   "execution_count": 7,
   "metadata": {
    "collapsed": true
   },
   "outputs": [],
   "source": [
    "def singleNumber(nums):\n",
    "    \"\"\"\n",
    "    :type nums: List[int]\n",
    "    :rtype: int\n",
    "    \"\"\"\n",
    "    ones, twos = 0, 0\n",
    "    for i in range(len(nums)):\n",
    "        ones = (ones ^ nums[i]) & ~twos\n",
    "        twos = (twos ^ nums[i]) & ~ones\n",
    "    return ones"
   ]
  },
  {
   "cell_type": "markdown",
   "metadata": {},
   "source": [
    "Bitwise.......Come on!!!"
   ]
  },
  {
   "cell_type": "markdown",
   "metadata": {},
   "source": [
    "# 230 Kth Smallest Element in a BST (Apr 12th)\n",
    "\n",
    "Given a binary search tree, write a function kthSmallest to find the kth smallest element in it.\n",
    "\n",
    "Note: \n",
    "\n",
    "You may assume k is always valid, 1 ≤ k ≤ BST's total elements.\n",
    "\n",
    "Follow up:\n",
    "\n",
    "What if the BST is modified (insert/delete operations) often and you need to find the kth smallest frequently? How would you optimize the kthSmallest routine?\n",
    "\n",
    "Hint:\n",
    "\n",
    "Try to utilize the property of a BST.\n",
    "\n",
    "What if you could modify the BST node's structure?\n",
    "\n",
    "The optimal runtime complexity is O(height of BST)."
   ]
  },
  {
   "cell_type": "code",
   "execution_count": 8,
   "metadata": {
    "collapsed": true
   },
   "outputs": [],
   "source": [
    "# Definition for a binary tree node.\n",
    "class TreeNode(object):\n",
    "    def __init__(self, x):\n",
    "        self.val = x\n",
    "        self.left = None\n",
    "        self.right = None\n",
    "\n",
    "class Solution(object):\n",
    "    def kthSmallest(self, root, k):\n",
    "        \"\"\"\n",
    "        :type root: TreeNode\n",
    "        :type k: int\n",
    "        :rtype: int\n",
    "        \"\"\"\n",
    "        stack = []\n",
    "        while stack or root:\n",
    "            while root:\n",
    "                stack.append(root)\n",
    "                root = root.left\n",
    "            node = stack.pop()\n",
    "            k -= 1\n",
    "            if k == 0:\n",
    "                return node.val\n",
    "            root = node.right"
   ]
  },
  {
   "cell_type": "markdown",
   "metadata": {},
   "source": [
    "Actually, it's the inoder iterative. "
   ]
  },
  {
   "cell_type": "markdown",
   "metadata": {},
   "source": [
    "# 96 Unique Binary Search Trees (Apr 12th)\n",
    "\n",
    "Given n, how many structurally unique BST's (binary search trees) that store values 1...n?\n",
    "\n",
    "For example,\n",
    "Given n = 3, there are a total of 5 unique BST's."
   ]
  },
  {
   "cell_type": "raw",
   "metadata": {},
   "source": [
    "   1         3     3      2      1\n",
    "    \\       /     /      / \\      \\\n",
    "     3     2     1      1   3      2\n",
    "    /     /       \\                 \\\n",
    "   2     1         2                 3"
   ]
  },
  {
   "cell_type": "code",
   "execution_count": 9,
   "metadata": {
    "collapsed": true
   },
   "outputs": [],
   "source": [
    "def numTrees(n):\n",
    "    \"\"\"\n",
    "    :type n: int\n",
    "    :rtype: int\n",
    "    \"\"\"\n",
    "    u = [0]*(n+1)\n",
    "    u[0] = u[1] = 1\n",
    "        \n",
    "    for i in range(2, n+1):\n",
    "        for j in range(1, i+1):\n",
    "            u[i] += u[j-1]*u[i-j]\n",
    "        \n",
    "    return u[n]"
   ]
  },
  {
   "cell_type": "code",
   "execution_count": 10,
   "metadata": {
    "collapsed": false
   },
   "outputs": [
    {
     "data": {
      "text/plain": [
       "16796"
      ]
     },
     "execution_count": 10,
     "metadata": {},
     "output_type": "execute_result"
    }
   ],
   "source": [
    "numTrees(10)"
   ]
  },
  {
   "cell_type": "markdown",
   "metadata": {},
   "source": [
    "DP problem. Explanation: https://leetcode.com/discuss/24282/dp-solution-in-6-lines-with-explanation-f-i-n-g-i-1-g-n-i"
   ]
  },
  {
   "cell_type": "markdown",
   "metadata": {
    "collapsed": true
   },
   "source": [
    "# 35 Search Insert Position (Apr 13th)\n",
    "\n",
    "Given a sorted array and a target value, return the index if the target is found. If not, return the index where it would be if it were inserted in order.\n",
    "\n",
    "You may assume no duplicates in the array.\n",
    "\n",
    "Here are few examples.\n",
    "[1,3,5,6], 5 → 2\n",
    "[1,3,5,6], 2 → 1\n",
    "[1,3,5,6], 7 → 4\n",
    "[1,3,5,6], 0 → 0"
   ]
  },
  {
   "cell_type": "code",
   "execution_count": null,
   "metadata": {
    "collapsed": true
   },
   "outputs": [],
   "source": [
    "class Solution(object):\n",
    "    def searchInsert(self, nums, target):\n",
    "        \"\"\"\n",
    "        :type nums: List[int]\n",
    "        :type target: int\n",
    "        :rtype: int\n",
    "        \"\"\"\n",
    "        if target < nums[0]:\n",
    "            return 0\n",
    "        elif target > nums[len(nums)-1]:\n",
    "            return len(nums)\n",
    "        p = self.binarySearch(nums, target, 0, len(nums)-1)\n",
    "        return p\n",
    "        \n",
    "    def binarySearch(self, nums, target, first, last):\n",
    "        mid = (first + last) / 2\n",
    "        if first <= last:\n",
    "            if nums[mid] == target:\n",
    "                return mid\n",
    "            elif nums[mid] < target:\n",
    "                return self.binarySearch(nums, target, mid+1, last)\n",
    "            elif nums[mid] > target:\n",
    "                return self.binarySearch(nums, target, first, mid-1)\n",
    "        else:\n",
    "            return mid+1 "
   ]
  },
  {
   "cell_type": "markdown",
   "metadata": {
    "collapsed": true
   },
   "source": [
    "Binary serach"
   ]
  },
  {
   "cell_type": "markdown",
   "metadata": {},
   "source": [
    "# 108 Convert Sorted Array to Binary Search Tree (Apr 13th)\n",
    "\n",
    "Given an array where elements are sorted in ascending order, convert it to a height balanced BST."
   ]
  },
  {
   "cell_type": "code",
   "execution_count": null,
   "metadata": {
    "collapsed": true
   },
   "outputs": [],
   "source": [
    "# Definition for a binary tree node.\n",
    "# class TreeNode(object):\n",
    "#     def __init__(self, x):\n",
    "#         self.val = x\n",
    "#         self.left = None\n",
    "#         self.right = None\n",
    "\n",
    "class Solution(object):\n",
    "    def sortedArrayToBST(self, nums):\n",
    "        \"\"\"\n",
    "        :type nums: List[int]\n",
    "        :rtype: TreeNode\n",
    "        \"\"\"\n",
    "        if not nums:\n",
    "            return None\n",
    "        \n",
    "        mid = (len(nums)-1)/2\n",
    "        root = TreeNode(nums[mid])\n",
    "        root.left = self.sortedArrayToBST(nums[:mid])\n",
    "        root.right = self.sortedArrayToBST(nums[mid+1:])\n",
    "        return root\n",
    "        "
   ]
  },
  {
   "cell_type": "markdown",
   "metadata": {
    "collapsed": true
   },
   "source": [
    "Not very fast..."
   ]
  },
  {
   "cell_type": "markdown",
   "metadata": {},
   "source": [
    "# 337 House Robber III (Apr 13th)\n",
    "\n",
    "The thief has found himself a new place for his thievery again. There is only one entrance to this area, called the \"root.\" Besides the root, each house has one and only one parent house. After a tour, the smart thief realized that \"all houses in this place forms a binary tree\". It will automatically contact the police if two directly-linked houses were broken into on the same night.\n",
    "\n",
    "Determine the maximum amount of money the thief can rob tonight without alerting the police.\n",
    "\n",
    "Example 1:"
   ]
  },
  {
   "cell_type": "raw",
   "metadata": {},
   "source": [
    "     3\n",
    "    / \\\n",
    "   2   3\n",
    "    \\   \\ \n",
    "     3   1"
   ]
  },
  {
   "cell_type": "markdown",
   "metadata": {},
   "source": [
    "Maximum amount of money the thief can rob = 3 + 3 + 1 = 7.\n",
    "\n",
    "Example 2:"
   ]
  },
  {
   "cell_type": "raw",
   "metadata": {},
   "source": [
    "     3\n",
    "    / \\\n",
    "   4   5\n",
    "  / \\   \\ \n",
    " 1   3   1"
   ]
  },
  {
   "cell_type": "markdown",
   "metadata": {},
   "source": [
    "Maximum amount of money the thief can rob = 4 + 5 = 9."
   ]
  },
  {
   "cell_type": "code",
   "execution_count": 1,
   "metadata": {
    "collapsed": true
   },
   "outputs": [],
   "source": [
    "# Definition for a binary tree node.\n",
    "# class TreeNode(object):\n",
    "#     def __init__(self, x):\n",
    "#         self.val = x\n",
    "#         self.left = None\n",
    "#         self.right = None\n",
    "\n",
    "class Solution(object):\n",
    "    def rob(self, root):\n",
    "        \"\"\"\n",
    "        :type root: TreeNode\n",
    "        :rtype: int\n",
    "        \"\"\"\n",
    "        return self.robDFS(root)[1]\n",
    "    \n",
    "    def robDFS(self, node):\n",
    "        if not node:\n",
    "            return (0,0)\n",
    "        l = self.robDFS(node.left)\n",
    "        r = self.robDFS(node.right)\n",
    "        return (l[1] + r[1], max(l[1] + r[1], l[0] + r[0] + node.val))"
   ]
  },
  {
   "cell_type": "markdown",
   "metadata": {
    "collapsed": true
   },
   "source": [
    "explanation: https://leetcode.com/discuss/91652/c-java-python-%26-explanation"
   ]
  },
  {
   "cell_type": "markdown",
   "metadata": {},
   "source": [
    "# 141 Linked List Cycle (Apr 13th)\n",
    "\n",
    "Given a linked list, determine if it has a cycle in it.\n",
    "\n",
    "Follow up:\n",
    "Can you solve it without using extra space?"
   ]
  },
  {
   "cell_type": "code",
   "execution_count": 2,
   "metadata": {
    "collapsed": true
   },
   "outputs": [],
   "source": [
    "# Definition for singly-linked list.\n",
    "# class ListNode(object):\n",
    "#     def __init__(self, x):\n",
    "#         self.val = x\n",
    "#         self.next = None\n",
    "\n",
    "class Solution(object):\n",
    "    def hasCycle(self, head):\n",
    "        \"\"\"\n",
    "        :type head: ListNode\n",
    "        :rtype: bool\n",
    "        \"\"\"\n",
    "        try:\n",
    "            tort = head\n",
    "            hare = head.next\n",
    "            while tort is not hare:\n",
    "                tort = tort.next\n",
    "                hare = hare.next.next\n",
    "            return True\n",
    "        except:\n",
    "            return False"
   ]
  },
  {
   "cell_type": "markdown",
   "metadata": {
    "collapsed": true
   },
   "source": [
    "https://en.wikipedia.org/wiki/Cycle_detection#Tortoise_and_hare"
   ]
  },
  {
   "cell_type": "markdown",
   "metadata": {},
   "source": [
    "# 22 Generate Parentheses (Apr 13th)\n",
    "\n",
    "Given n pairs of parentheses, write a function to generate all combinations of well-formed parentheses.\n",
    "\n",
    "For example, given n = 3, a solution set is:\n",
    "\n",
    "\"((()))\", \"(()())\", \"(())()\", \"()(())\", \"()()()\""
   ]
  },
  {
   "cell_type": "code",
   "execution_count": null,
   "metadata": {
    "collapsed": true
   },
   "outputs": [],
   "source": [
    "class Solution(object):\n",
    "    def generateParenthesis(self, n):\n",
    "        \"\"\"\n",
    "        :type n: int\n",
    "        :rtype: List[str]\n",
    "        \"\"\"\n",
    "        if not n:\n",
    "            return []\n",
    "        left, right, ans = n, n, []\n",
    "        self.dfs(left,right, ans, \"\")\n",
    "        return ans\n",
    "\n",
    "    def dfs(self, left, right, ans, string):\n",
    "        if right < left:\n",
    "            return\n",
    "        if not left and not right:\n",
    "            ans.append(string)\n",
    "            return\n",
    "        if left:\n",
    "            self.dfs(left-1, right, ans, string + \"(\")\n",
    "        if right:\n",
    "            self.dfs(left, right-1, ans, string + \")\")"
   ]
  },
  {
   "cell_type": "markdown",
   "metadata": {
    "collapsed": true
   },
   "source": [
    "高深莫测。。。。。。。https://leetcode.com/discuss/43122/4-7-lines-python"
   ]
  },
  {
   "cell_type": "markdown",
   "metadata": {},
   "source": [
    "# 309 Best Time to Buy and Sell Stock with Cooldown (Apr 13th)\n",
    "\n",
    "Say you have an array for which the ith element is the price of a given stock on day i.\n",
    "\n",
    "Design an algorithm to find the maximum profit. You may complete as many transactions as you like (ie, buy one and sell one share of the stock multiple times) with the following restrictions:\n",
    "\n",
    "You may not engage in multiple transactions at the same time (ie, you must sell the stock before you buy again).\n",
    "After you sell your stock, you cannot buy stock on next day. (ie, cooldown 1 day)\n",
    "\n",
    "Example:"
   ]
  },
  {
   "cell_type": "raw",
   "metadata": {},
   "source": [
    "prices = [1, 2, 3, 0, 2]\n",
    "maxProfit = 3\n",
    "transactions = [buy, sell, cooldown, buy, sell]"
   ]
  },
  {
   "cell_type": "code",
   "execution_count": 3,
   "metadata": {
    "collapsed": true
   },
   "outputs": [],
   "source": [
    "def maxProfit(prices):\n",
    "    \"\"\"\n",
    "    :type prices: List[int]\n",
    "    :rtype: int\n",
    "    \"\"\"\n",
    "    if len(prices) < 2:\n",
    "        return 0\n",
    "    sell, buy, prev_sell, prev_buy = 0, -prices[0], 0, 0\n",
    "    for price in prices:\n",
    "        prev_buy = buy\n",
    "        buy = max(prev_sell - price, prev_buy)\n",
    "        prev_sell = sell\n",
    "        sell = max(prev_buy + price, prev_sell)\n",
    "    return sell"
   ]
  },
  {
   "cell_type": "markdown",
   "metadata": {},
   "source": [
    "Dynamic programming. Solution and explanation are here: https://leetcode.com/discuss/71354/share-my-thinking-process"
   ]
  },
  {
   "cell_type": "markdown",
   "metadata": {},
   "source": [
    "# 116 Populating Next Right Pointers in Each Node (Apr 14th)\n",
    "\n",
    "Given a binary tree"
   ]
  },
  {
   "cell_type": "raw",
   "metadata": {},
   "source": [
    "    struct TreeLinkNode {\n",
    "      TreeLinkNode *left;\n",
    "      TreeLinkNode *right;\n",
    "      TreeLinkNode *next;\n",
    "    }"
   ]
  },
  {
   "cell_type": "markdown",
   "metadata": {},
   "source": [
    "Populate each next pointer to point to its next right node. If there is no next right node, the next pointer should be set to NULL.\n",
    "\n",
    "Initially, all next pointers are set to NULL.\n",
    "\n",
    "Note:\n",
    "\n",
    "You may only use constant extra space.\n",
    "You may assume that it is a perfect binary tree (ie, all leaves are at the same level, and every parent has two children).\n",
    "\n",
    "For example,\n",
    "Given the following perfect binary tree,"
   ]
  },
  {
   "cell_type": "raw",
   "metadata": {},
   "source": [
    "         1\n",
    "       /  \\\n",
    "      2    3\n",
    "     / \\  / \\\n",
    "    4  5  6  7"
   ]
  },
  {
   "cell_type": "markdown",
   "metadata": {},
   "source": [
    "After calling your function, the tree should look like:"
   ]
  },
  {
   "cell_type": "raw",
   "metadata": {},
   "source": [
    "         1 -> NULL\n",
    "       /  \\\n",
    "      2 -> 3 -> NULL\n",
    "     / \\  / \\\n",
    "    4->5->6->7 -> NULL"
   ]
  },
  {
   "cell_type": "code",
   "execution_count": 4,
   "metadata": {
    "collapsed": true
   },
   "outputs": [],
   "source": [
    "# Definition for binary tree with next pointer.\n",
    "class TreeLinkNode(object):\n",
    "    def __init__(self, x):\n",
    "        self.val = x\n",
    "        self.left = None\n",
    "        self.right = None\n",
    "        self.next = None\n",
    "\n",
    "class Solution(object):\n",
    "    def connect(self, root):\n",
    "        \"\"\"\n",
    "        :type root: TreeLinkNode\n",
    "        :rtype: nothing\n",
    "        \"\"\"\n",
    "        if not root:\n",
    "            return\n",
    "        while root.left:\n",
    "            cur = root.left\n",
    "            pre = None\n",
    "            while root:\n",
    "                if pre:\n",
    "                    pre.next = root.left\n",
    "                root.left.next = root.right\n",
    "                pre = root.right\n",
    "                root = root.next\n",
    "            root = cur"
   ]
  },
  {
   "cell_type": "markdown",
   "metadata": {},
   "source": [
    "You just have to figure out the mechanism of this structure."
   ]
  },
  {
   "cell_type": "markdown",
   "metadata": {},
   "source": [
    "# 53 Maximum Subarray (Apr 14th)\n",
    "\n",
    "Find the contiguous subarray within an array (containing at least one number) which has the largest sum.\n",
    "\n",
    "For example, given the array [−2,1,−3,4,−1,2,1,−5,4],\n",
    "the contiguous subarray [4,−1,2,1] has the largest sum = 6.\n",
    "\n",
    "More practice:\n",
    "\n",
    "If you have figured out the O(n) solution, try coding another solution using the divide and conquer approach, which is more subtle."
   ]
  },
  {
   "cell_type": "code",
   "execution_count": 7,
   "metadata": {
    "collapsed": true
   },
   "outputs": [],
   "source": [
    "def maxSubArray(nums):\n",
    "    \"\"\"\n",
    "    :type nums: List[int]\n",
    "    :rtype: int\n",
    "    \"\"\"\n",
    "    # Kadane Alogrithm O(n)\n",
    "    max_ending_here = max_so_far = nums[0]\n",
    "    for x in nums[1:]:\n",
    "        max_ending_here = max(x, max_ending_here + x)\n",
    "        max_so_far = max(max_so_far, max_ending_here)\n",
    "    return max_so_far"
   ]
  },
  {
   "cell_type": "code",
   "execution_count": 8,
   "metadata": {
    "collapsed": false
   },
   "outputs": [
    {
     "data": {
      "text/plain": [
       "21"
      ]
     },
     "execution_count": 8,
     "metadata": {},
     "output_type": "execute_result"
    }
   ],
   "source": [
    "maxSubArray([1,3,2,4,5,6,-2,-3,-4,1,-4,-9,9,10,-3])"
   ]
  },
  {
   "cell_type": "markdown",
   "metadata": {},
   "source": [
    "explanation: https://en.wikipedia.org/wiki/Maximum_subarray_problem#Kadane.27s_algorithm,\n",
    "https://leetcode.com/discuss/15805/accepted-o-n-solution-in-java"
   ]
  },
  {
   "cell_type": "markdown",
   "metadata": {},
   "source": [
    "# 89 Gray Code (Apr 14th)\n",
    "\n",
    "The gray code is a binary numeral system where two successive values differ in only one bit.\n",
    "\n",
    "Given a non-negative integer n representing the total number of bits in the code, print the sequence of gray code. A gray code sequence must begin with 0.\n",
    "\n",
    "For example, given n = 2, return [0,1,3,2]. Its gray code sequence is:"
   ]
  },
  {
   "cell_type": "raw",
   "metadata": {},
   "source": [
    "00 - 0\n",
    "01 - 1\n",
    "11 - 3\n",
    "10 - 2"
   ]
  },
  {
   "cell_type": "markdown",
   "metadata": {},
   "source": [
    "Note:\n",
    "\n",
    "For a given n, a gray code sequence is not uniquely defined.\n",
    "\n",
    "For example, [0,2,3,1] is also a valid gray code sequence according to the above definition.\n",
    "\n",
    "For now, the judge is able to judge based on one instance of gray code sequence. Sorry about that."
   ]
  },
  {
   "cell_type": "code",
   "execution_count": 1,
   "metadata": {
    "collapsed": true
   },
   "outputs": [],
   "source": [
    "def grayCode(n):\n",
    "    \"\"\"\n",
    "    :type n: int\n",
    "    :rtype: List[int]\n",
    "    \"\"\"\n",
    "    res = []\n",
    "    for i in range(1<<n):\n",
    "        res.append(i ^ i>>1)\n",
    "     \n",
    "    return res"
   ]
  },
  {
   "cell_type": "markdown",
   "metadata": {},
   "source": [
    "https://en.wikipedia.org/wiki/Gray_code,\n",
    "https://leetcode.com/discuss/1525/what-if-i-have-no-knowledge-over-gray-code-before"
   ]
  },
  {
   "cell_type": "markdown",
   "metadata": {},
   "source": [
    "# 153 Find Minimum in Rotated Sorted Array (Apr 14th)\n",
    "\n",
    "Suppose a sorted array is rotated at some pivot unknown to you beforehand.\n",
    "\n",
    "(i.e., 0 1 2 4 5 6 7 might become 4 5 6 7 0 1 2).\n",
    "\n",
    "Find the minimum element.\n",
    "\n",
    "You may assume no duplicate exists in the array."
   ]
  },
  {
   "cell_type": "code",
   "execution_count": 2,
   "metadata": {
    "collapsed": true
   },
   "outputs": [],
   "source": [
    "def findMin(nums):\n",
    "    \"\"\"\n",
    "    :type nums: List[int]\n",
    "    :rtype: int\n",
    "    \"\"\"\n",
    "    begin ,end = 0, len(nums) - 1\n",
    "    if end == 0:\n",
    "        return nums[0]\n",
    "    while begin <= end:\n",
    "        mid = (begin + end) // 2\n",
    "        if nums[mid] > nums[mid+1]:\n",
    "            return nums[mid+1]\n",
    "        elif nums[mid] < nums[mid-1]:\n",
    "            return nums[mid]\n",
    "        elif nums[mid] > nums[end]:\n",
    "            begin = mid + 1\n",
    "        else: \n",
    "            end = mid - 1"
   ]
  },
  {
   "cell_type": "code",
   "execution_count": 3,
   "metadata": {
    "collapsed": false
   },
   "outputs": [
    {
     "data": {
      "text/plain": [
       "1"
      ]
     },
     "execution_count": 3,
     "metadata": {},
     "output_type": "execute_result"
    }
   ],
   "source": [
    "findMin([3,4,5,6,7,1,2,3])"
   ]
  },
  {
   "cell_type": "markdown",
   "metadata": {},
   "source": [
    "EASY!!!!"
   ]
  },
  {
   "cell_type": "markdown",
   "metadata": {},
   "source": [
    "# 62 Unique Paths (Apr 14th)\n",
    "\n",
    "A robot is located at the top-left corner of a m x n grid (marked 'Start' in the diagram below).\n",
    "\n",
    "The robot can only move either down or right at any point in time. The robot is trying to reach the bottom-right corner of the grid (marked 'Finish' in the diagram below).\n",
    "\n",
    "How many possible unique paths are there?\n",
    "<img src = \"robot_maze.png\">\n",
    "Above is a 3 x 7 grid. How many possible unique paths are there?\n",
    "\n",
    "Note: m and n will be at most 100."
   ]
  },
  {
   "cell_type": "code",
   "execution_count": 4,
   "metadata": {
    "collapsed": true
   },
   "outputs": [],
   "source": [
    "def uniquePaths(m, n):\n",
    "    \"\"\"\n",
    "    :type m: int\n",
    "    :type n: int\n",
    "    :rtype: int\n",
    "    \"\"\"\n",
    "    return reduce(lambda res, i: res * (n - 1 + i) / i, range(1, m), 1)"
   ]
  },
  {
   "cell_type": "code",
   "execution_count": 5,
   "metadata": {
    "collapsed": false
   },
   "outputs": [
    {
     "data": {
      "text/plain": [
       "11440"
      ]
     },
     "execution_count": 5,
     "metadata": {},
     "output_type": "execute_result"
    }
   ],
   "source": [
    "uniquePaths(10,8)"
   ]
  },
  {
   "cell_type": "markdown",
   "metadata": {},
   "source": [
    "# 46 Permutations (Apr 14th)\n",
    "\n",
    "Given a collection of distinct numbers, return all possible permutations.\n",
    "\n",
    "For example,\n",
    "\n",
    "[1,2,3] have the following permutations:\n",
    "\n",
    "[1,2,3], [1,3,2], [2,1,3], [2,3,1], [3,1,2], and [3,2,1]."
   ]
  },
  {
   "cell_type": "code",
   "execution_count": 7,
   "metadata": {
    "collapsed": true
   },
   "outputs": [],
   "source": [
    "def permute(nums):\n",
    "    \"\"\"\n",
    "    :type nums: List[int]\n",
    "    :rtype: List[List[int]]\n",
    "    \"\"\"\n",
    "    return reduce(lambda P, n: [p[:i] + [n] + p[i:]\n",
    "                    for p in P for i in range(len(p)+1)],\n",
    "                  nums, [[]])"
   ]
  },
  {
   "cell_type": "code",
   "execution_count": 8,
   "metadata": {
    "collapsed": false
   },
   "outputs": [
    {
     "data": {
      "text/plain": [
       "[[4, 3, 2, 1],\n",
       " [3, 4, 2, 1],\n",
       " [3, 2, 4, 1],\n",
       " [3, 2, 1, 4],\n",
       " [4, 2, 3, 1],\n",
       " [2, 4, 3, 1],\n",
       " [2, 3, 4, 1],\n",
       " [2, 3, 1, 4],\n",
       " [4, 2, 1, 3],\n",
       " [2, 4, 1, 3],\n",
       " [2, 1, 4, 3],\n",
       " [2, 1, 3, 4],\n",
       " [4, 3, 1, 2],\n",
       " [3, 4, 1, 2],\n",
       " [3, 1, 4, 2],\n",
       " [3, 1, 2, 4],\n",
       " [4, 1, 3, 2],\n",
       " [1, 4, 3, 2],\n",
       " [1, 3, 4, 2],\n",
       " [1, 3, 2, 4],\n",
       " [4, 1, 2, 3],\n",
       " [1, 4, 2, 3],\n",
       " [1, 2, 4, 3],\n",
       " [1, 2, 3, 4]]"
      ]
     },
     "execution_count": 8,
     "metadata": {},
     "output_type": "execute_result"
    }
   ],
   "source": [
    "permute([1,2,3,4])"
   ]
  },
  {
   "cell_type": "markdown",
   "metadata": {},
   "source": [
    "https://leetcode.com/discuss/42550/one-liners-in-python"
   ]
  },
  {
   "cell_type": "markdown",
   "metadata": {},
   "source": [
    "# 216 Combination Sum III (Apr 15th)\n",
    "\n",
    "Find all possible combinations of k numbers that add up to a number n, given that only numbers from 1 to 9 can be used and each combination should be a unique set of numbers.\n",
    "\n",
    "Ensure that numbers within the set are sorted in ascending order.\n",
    "\n",
    "\n",
    "Example 1:\n",
    "\n",
    "Input: k = 3, n = 7\n",
    "\n",
    "Output:\n",
    "\n",
    "[[1,2,4]]\n",
    "\n",
    "Example 2:\n",
    "\n",
    "Input: k = 3, n = 9\n",
    "\n",
    "Output:\n",
    "\n",
    "[[1,2,6], [1,3,5], [2,3,4]]\n"
   ]
  },
  {
   "cell_type": "code",
   "execution_count": 1,
   "metadata": {
    "collapsed": true
   },
   "outputs": [],
   "source": [
    "class Solution(object):\n",
    "    def combinationSum3(self, k, n):\n",
    "        \"\"\"\n",
    "        :type k: int\n",
    "        :type n: int\n",
    "        :rtype: List[List[int]]\n",
    "        \"\"\"\n",
    "        if n > 45:\n",
    "            return []\n",
    "        res = []\n",
    "        self.recSum(k, n, 1, [], res)\n",
    "        return res\n",
    "        \n",
    "    def recSum(self, k, n, curr, ans, res):\n",
    "        if len(ans) == k and sum(ans) == n:\n",
    "            res.append(list(ans))\n",
    "            return\n",
    "        if len(ans) > k or curr > 9:\n",
    "            return\n",
    "        for i in range(curr, 10):\n",
    "            ans.append(i)\n",
    "            self.recSum(k, n, i+1, ans, res)\n",
    "            ans.pop()"
   ]
  },
  {
   "cell_type": "code",
   "execution_count": 2,
   "metadata": {
    "collapsed": false
   },
   "outputs": [
    {
     "data": {
      "text/plain": [
       "[[1, 2, 7], [1, 3, 6], [1, 4, 5], [2, 3, 5]]"
      ]
     },
     "execution_count": 2,
     "metadata": {},
     "output_type": "execute_result"
    }
   ],
   "source": [
    "combSum = Solution()\n",
    "combSum.combinationSum3(3,10)"
   ]
  },
  {
   "cell_type": "markdown",
   "metadata": {},
   "source": [
    "It's the backtracking problem. "
   ]
  },
  {
   "cell_type": "markdown",
   "metadata": {},
   "source": [
    "# 59 Spiral Matrix II (Apr 15th)\n",
    "\n",
    "Given an integer n, generate a square matrix filled with elements from 1 to n2 in spiral order.\n",
    "\n",
    "For example,\n",
    "Given n = 3,\n",
    "\n",
    "You should return the following matrix:"
   ]
  },
  {
   "cell_type": "raw",
   "metadata": {},
   "source": [
    "[\n",
    " [ 1, 2, 3 ],\n",
    " [ 8, 9, 4 ],\n",
    " [ 7, 6, 5 ]\n",
    "]"
   ]
  },
  {
   "cell_type": "code",
   "execution_count": 1,
   "metadata": {
    "collapsed": true
   },
   "outputs": [],
   "source": [
    "def generateMatrix(n):\n",
    "    \"\"\"\n",
    "    :type n: int\n",
    "    :rtype: List[List[int]]\n",
    "    \"\"\"\n",
    "    mx = [[0]*n for _ in range(n)]\n",
    "\n",
    "    mx = [[0]*n for _ in range(n)]\n",
    "\n",
    "    k, i = 1, 0\n",
    "    while k <= n * n:\n",
    "        j = i\n",
    "        # four steps\n",
    "        while j < n - i:            # 1. horizonal, left to right\n",
    "            mx[i][j] = k\n",
    "            j += 1\n",
    "            k += 1\n",
    "        j = i + 1\n",
    "        while j < n - i:             # 2. vertical, top to bottom\n",
    "            mx[j][n-i-1] = k\n",
    "            j += 1\n",
    "            k += 1\n",
    "        j = n - i - 2\n",
    "\n",
    "        while j > i:                  # 3. horizonal, right to left \n",
    "            mx[n-i-1][j] = k\n",
    "            j -= 1\n",
    "            k += 1\n",
    "        j = n - i - 1\n",
    "        while j > i:                  # 4. vertical, bottom to  top \n",
    "            mx[j][i] = k\n",
    "            j -= 1\n",
    "            k += 1\n",
    "        i += 1      # next loop\n",
    "        \"\"\"\n",
    "        # faster\n",
    "        i, j, di, dj = 0, 0, 0, 1\n",
    "        for k in xrange(n*n):\n",
    "            mx[i][j] = k + 1\n",
    "            if mx[(i+di)%n][(j+dj)%n]:\n",
    "                di, dj = dj, -di\n",
    "            i += di\n",
    "            j += dj\n",
    "        \"\"\"\n",
    "    return mx"
   ]
  },
  {
   "cell_type": "code",
   "execution_count": 2,
   "metadata": {
    "collapsed": false
   },
   "outputs": [
    {
     "data": {
      "text/plain": [
       "[[1, 2, 3, 4, 5, 6],\n",
       " [20, 21, 22, 23, 24, 7],\n",
       " [19, 32, 33, 34, 25, 8],\n",
       " [18, 31, 36, 35, 26, 9],\n",
       " [17, 30, 29, 28, 27, 10],\n",
       " [16, 15, 14, 13, 12, 11]]"
      ]
     },
     "execution_count": 2,
     "metadata": {},
     "output_type": "execute_result"
    }
   ],
   "source": [
    "generateMatrix(6)"
   ]
  },
  {
   "cell_type": "markdown",
   "metadata": {},
   "source": [
    "It's a straight forward method.\n",
    "\n",
    "There are other methods:\n",
    "https://leetcode.com/discuss/46720/4-9-lines-python-solutions"
   ]
  },
  {
   "cell_type": "markdown",
   "metadata": {},
   "source": [
    "#  64 Minimum Path Sum (Apr 15th)\n",
    "\n",
    "Given a m x n grid filled with non-negative numbers, find a path from top left to bottom right which minimizes the sum of all numbers along its path.\n",
    "\n",
    "Note: You can only move either down or right at any point in time."
   ]
  },
  {
   "cell_type": "code",
   "execution_count": 3,
   "metadata": {
    "collapsed": true
   },
   "outputs": [],
   "source": [
    "def minPathSum(grid):\n",
    "    \"\"\"\n",
    "    :type grid: List[List[int]]\n",
    "    :rtype: int\n",
    "    \"\"\"\n",
    "    m = len(grid)\n",
    "    n = len(grid[0])\n",
    "\n",
    "    for j in range(1, n):\n",
    "        grid[0][j] += grid[0][j-1]\n",
    "\n",
    "    for i in range(1, m):\n",
    "        grid[i][0] += grid[i-1][0]\n",
    "\n",
    "    for i in range(1, m):\n",
    "        for j in range(1, n):\n",
    "            grid[i][j] += min(grid[i-1][j], grid[i][j-1])\n",
    "\n",
    "    return grid[-1][-1]"
   ]
  },
  {
   "cell_type": "markdown",
   "metadata": {},
   "source": [
    "Dynamic programming looks very important."
   ]
  },
  {
   "cell_type": "markdown",
   "metadata": {},
   "source": [
    "# 75 Sort Colors (Apr 15th)\n",
    "\n",
    "Given an array with n objects colored red, white or blue, sort them so that objects of the same color are adjacent, with the colors in the order red, white and blue.\n",
    "\n",
    "Here, we will use the integers 0, 1, and 2 to represent the color red, white, and blue respectively.\n",
    "\n",
    "Note:\n",
    "\n",
    "You are not suppose to use the library's sort function for this problem.\n",
    "\n",
    "Follow up:\n",
    "\n",
    "A rather straight forward solution is a two-pass algorithm using counting sort.\n",
    "First, iterate the array counting number of 0's, 1's, and 2's, then overwrite array with total number of 0's, then 1's and followed by 2's.\n",
    "\n",
    "Could you come up with an one-pass algorithm using only constant space?"
   ]
  },
  {
   "cell_type": "code",
   "execution_count": 4,
   "metadata": {
    "collapsed": true
   },
   "outputs": [],
   "source": [
    "def sortColors(nums):\n",
    "    \"\"\"\n",
    "    :type nums: List[int]\n",
    "    :rtype: void Do not return anything, modify nums in-place instead.\n",
    "    \"\"\"\n",
    "    n0 = nums.count(0)\n",
    "    n1 = nums.count(1)\n",
    "    n2 = nums.count(2)\n",
    "\n",
    "    nums[0:n0] = [0]*n0\n",
    "    nums[n0:n0+n1] = [1]*n1\n",
    "    nums[n0+n1:] = [2]*n2\n",
    "    \"\"\"\n",
    "    i = j = 0\n",
    "    for k in xrange(len(nums)):\n",
    "        v = nums[k]\n",
    "        nums[k] = 2\n",
    "        if v < 2:\n",
    "            nums[j] = 1\n",
    "            j += 1\n",
    "        if v == 0:\n",
    "            nums[i] = 0\n",
    "            i += 1\n",
    "    \"\"\""
   ]
  },
  {
   "cell_type": "code",
   "execution_count": 6,
   "metadata": {
    "collapsed": false
   },
   "outputs": [
    {
     "data": {
      "text/plain": [
       "[0, 0, 0, 0, 0, 1, 1, 1, 1, 2, 2, 2]"
      ]
     },
     "execution_count": 6,
     "metadata": {},
     "output_type": "execute_result"
    }
   ],
   "source": [
    "nums = [0,2,1,0,2,0,1,0,0,1,2,1]\n",
    "sortColors(nums)\n",
    "nums"
   ]
  },
  {
   "cell_type": "markdown",
   "metadata": {},
   "source": [
    "https://en.wikipedia.org/wiki/Quicksort#Lomuto_partition_scheme,\n",
    "\n",
    "https://leetcode.com/discuss/62048/python-in-place-one-pass-solution-time-space-no-swap-no-count"
   ]
  },
  {
   "cell_type": "markdown",
   "metadata": {},
   "source": [
    "# 241 Different Ways to Add Parentheses (Apr 15th)\n",
    "\n",
    "Given a string of numbers and operators, return all possible results from computing all the different possible ways to group numbers and operators. The valid operators are +, - and *.\n",
    "\n",
    "\n",
    "Example 1\n",
    "\n",
    "Input: \"2-1-1\".\n",
    "\n",
    "((2-1)-1) = 0\n",
    "\n",
    "(2-(1-1)) = 2\n",
    "\n",
    "Output: [0, 2]\n",
    "\n",
    "\n",
    "Example 2\n",
    "\n",
    "Input: \"2*3-4*5\"\n",
    "\n",
    "(2*(3-(4*5))) = -34\n",
    "\n",
    "((2*3)-(4*5)) = -14\n",
    "\n",
    "((2*(3-4))*5) = -10\n",
    "\n",
    "(2*((3-4)*5)) = -10\n",
    "\n",
    "(((2*3)-4)*5) = 10\n",
    "\n",
    "Output: [-34, -14, -10, -10, 10]"
   ]
  },
  {
   "cell_type": "code",
   "execution_count": 1,
   "metadata": {
    "collapsed": true
   },
   "outputs": [],
   "source": [
    "class Solution(object):\n",
    "    def diffWaysToCompute(self, input):\n",
    "        \"\"\"\n",
    "        :type input: str\n",
    "        :rtype: List[int]\n",
    "        \"\"\"\n",
    "        if input.isdigit():\n",
    "            return [int (input)]\n",
    "        \n",
    "        res = []\n",
    "        for i in xrange(len(input)):\n",
    "            if input[i] in \"+-*\":\n",
    "                res1 = self.diffWaysToCompute(input[:i])\n",
    "                res2 = self.diffWaysToCompute(input[i+1:])\n",
    "                for j in res1:\n",
    "                    for k in res2:\n",
    "                        res.append(self.helper(j,k,input[i]))\n",
    "        return res\n",
    "        \"\"\"\n",
    "            # an pythonic way:\n",
    "            return [a+b if c == '+' else a-b if c == '-' else a*b\n",
    "                    for i, c in enumerate(input) if c in '+-*'\n",
    "                    for a in self.diffWaysToCompute(input[:i])\n",
    "                    for b in self.diffWaysToCompute(input[i+1:])] or [int(input)]\n",
    "        \"\"\"\n",
    "        \n",
    "        \n",
    "    def helper(self, m, n, op):\n",
    "        if op == \"+\":\n",
    "            return m+n\n",
    "        elif op == \"-\":\n",
    "            return m-n\n",
    "        else:\n",
    "            return m*n"
   ]
  },
  {
   "cell_type": "markdown",
   "metadata": {},
   "source": [
    "Divide and conquer,\n",
    "https://leetcode.com/discuss/48468/1-11-lines-python-9-lines-c"
   ]
  },
  {
   "cell_type": "markdown",
   "metadata": {},
   "source": [
    "# 48 Rotate Image (Apr 15th)\n",
    "\n",
    "You are given an n x n 2D matrix representing an image.\n",
    "\n",
    "Rotate the image by 90 degrees (clockwise).\n",
    "\n",
    "Follow up:\n",
    "\n",
    "Could you do this in-place?"
   ]
  },
  {
   "cell_type": "code",
   "execution_count": null,
   "metadata": {
    "collapsed": true
   },
   "outputs": [],
   "source": [
    "def rotate(matrix):\n",
    "    \"\"\"\n",
    "    :type matrix: List[List[int]]\n",
    "    :rtype: void Do not return anything, modify matrix in-place instead.\n",
    "    \"\"\"\n",
    "    j = 0\n",
    "    for i in zip(*matrix):\n",
    "        matrix[j] = list(i)[::-1]\n",
    "        j += 1\n",
    "    # a good expresion\n",
    "    # matrix[::] = zip(*matrix[::-1])"
   ]
  },
  {
   "cell_type": "code",
   "execution_count": 3,
   "metadata": {
    "collapsed": false
   },
   "outputs": [
    {
     "data": {
      "text/plain": [
       "[[7, 4, 1], [8, 5, 2], [9, 6, 3]]"
      ]
     },
     "execution_count": 3,
     "metadata": {},
     "output_type": "execute_result"
    }
   ],
   "source": [
    "matrix = [[1,2,3],[4,5,6],[7,8,9]]\n",
    "rotate(matrix)\n",
    "matrix"
   ]
  },
  {
   "cell_type": "markdown",
   "metadata": {},
   "source": [
    "# 343 Integer Break (Apr 16th)\n",
    "\n",
    "Given a positive integer n, break it into the sum of at least two positive integers and maximize the product of those integers. Return the maximum product you can get.\n",
    "\n",
    "For example, given n = 2, return 1 (2 = 1 + 1); given n = 10, return 36 (10 = 3 + 3 + 4).\n",
    "\n",
    "Note: you may assume that n is not less than 2.\n",
    "\n",
    "Hint:\n",
    "\n",
    "There is a simple O(n) solution to this problem.\n",
    "\n",
    "You may check the breaking results of n ranging from 7 to 10 to discover the regularities."
   ]
  },
  {
   "cell_type": "code",
   "execution_count": 4,
   "metadata": {
    "collapsed": true
   },
   "outputs": [],
   "source": [
    "def integerBreak(n):\n",
    "    \"\"\"\n",
    "    :type n: int\n",
    "    :rtype: int\n",
    "    \"\"\"\n",
    "    dp = [0]*(n+1)\n",
    "    dp[2] = 1\n",
    "    for i in range(3, n+1):\n",
    "        for j in range(1, i-1):\n",
    "            dp[i] = max(dp[i], j*max(i-j, dp[i-j]))\n",
    "    return dp[-1]"
   ]
  },
  {
   "cell_type": "code",
   "execution_count": 5,
   "metadata": {
    "collapsed": false
   },
   "outputs": [
    {
     "data": {
      "text/plain": [
       "36"
      ]
     },
     "execution_count": 5,
     "metadata": {},
     "output_type": "execute_result"
    }
   ],
   "source": [
    "integerBreak(10)"
   ]
  },
  {
   "cell_type": "markdown",
   "metadata": {},
   "source": [
    "Dyanmic Programming Again"
   ]
  },
  {
   "cell_type": "markdown",
   "metadata": {},
   "source": [
    "# 11 Container With Most Water (Apr 16th)\n",
    "\n",
    "Given n non-negative integers a1, a2, ..., an, where each represents a point at coordinate (i, ai). n vertical lines are drawn such that the two endpoints of line i is at (i, ai) and (i, 0). Find two lines, which together with x-axis forms a container, such that the container contains the most water.\n",
    "\n",
    "Note: You may not slant the container."
   ]
  },
  {
   "cell_type": "code",
   "execution_count": 2,
   "metadata": {
    "collapsed": true
   },
   "outputs": [],
   "source": [
    "def maxArea(height):\n",
    "    \"\"\"\n",
    "    :type height: List[int]\n",
    "    :rtype: int\n",
    "    \"\"\"\n",
    "    low = 0\n",
    "    high = len(height) -1 \n",
    "    maxArea = 0  \n",
    "    while low < high:  \n",
    "        maxArea = max(maxArea, (high - low) * min(height[low], height[high])) \n",
    "        if height[low] < height[high]:  \n",
    "            low += 1\n",
    "        else: \n",
    "            high -= 1\n",
    "    return maxArea"
   ]
  },
  {
   "cell_type": "code",
   "execution_count": 3,
   "metadata": {
    "collapsed": false
   },
   "outputs": [
    {
     "data": {
      "text/plain": [
       "16"
      ]
     },
     "execution_count": 3,
     "metadata": {},
     "output_type": "execute_result"
    }
   ],
   "source": [
    "maxArea([1,2,3,4,5,6,7,8])"
   ]
  },
  {
   "cell_type": "markdown",
   "metadata": {},
   "source": [
    "https://leetcode.com/discuss/1074/anyone-who-has-a-o-n-algorithm"
   ]
  },
  {
   "cell_type": "markdown",
   "metadata": {},
   "source": [
    "# 173 Binary Search Tree Iterator (Apr 16th)\n",
    "\n",
    "Implement an iterator over a binary search tree (BST). Your iterator will be initialized with the root node of a BST.\n",
    "\n",
    "Calling next() will return the next smallest number in the BST.\n",
    "\n",
    "Note: next() and hasNext() should run in average O(1) time and uses O(h) memory, where h is the height of the tree."
   ]
  },
  {
   "cell_type": "code",
   "execution_count": 4,
   "metadata": {
    "collapsed": true
   },
   "outputs": [],
   "source": [
    "# Definition for a  binary tree node\n",
    "class TreeNode(object):\n",
    "    def __init__(self, x):\n",
    "        self.val = x\n",
    "        self.left = None\n",
    "        self.right = None\n",
    "\n",
    "class BSTIterator(object):\n",
    "    def __init__(self, root):\n",
    "        \"\"\"\n",
    "        :type root: TreeNode\n",
    "        \"\"\"\n",
    "        self.stack = []\n",
    "        self.pushAll(root)\n",
    "\n",
    "    def hasNext(self):\n",
    "        \"\"\"\n",
    "        :rtype: bool\n",
    "        \"\"\"\n",
    "        return len(self.stack) != 0\n",
    "\n",
    "    def next(self):\n",
    "        \"\"\"\n",
    "        :rtype: int\n",
    "        \"\"\"\n",
    "        tmp = self.stack.pop()\n",
    "        self.pushAll(tmp.right)\n",
    "        return tmp.val\n",
    "    \n",
    "    def pushAll(self, node):\n",
    "        while node:\n",
    "            self.stack.append(node)\n",
    "            node = node.left\n",
    "\n",
    "# Your BSTIterator will be called like this:\n",
    "# i, v = BSTIterator(root), []\n",
    "# while i.hasNext(): v.append(i.next())"
   ]
  },
  {
   "cell_type": "markdown",
   "metadata": {},
   "source": [
    "https://leetcode.com/discuss/20001/my-solutions-in-3-languages-with-stack,\n",
    "\n",
    "Using generator: https://leetcode.com/discuss/20188/two-python-solutions-stack-and-generator"
   ]
  },
  {
   "cell_type": "markdown",
   "metadata": {},
   "source": [
    "# 240 Search a 2D Matrix II (Apr 16th)\n",
    "\n",
    "Write an efficient algorithm that searches for a value in an m x n matrix. This matrix has the following properties:\n",
    "\n",
    "Integers in each row are sorted in ascending from left to right.\n",
    "\n",
    "Integers in each column are sorted in ascending from top to bottom.\n",
    "\n",
    "For example,\n",
    "\n",
    "Consider the following matrix:"
   ]
  },
  {
   "cell_type": "raw",
   "metadata": {},
   "source": [
    "[\n",
    "  [1,   4,  7, 11, 15],\n",
    "  [2,   5,  8, 12, 19],\n",
    "  [3,   6,  9, 16, 22],\n",
    "  [10, 13, 14, 17, 24],\n",
    "  [18, 21, 23, 26, 30]\n",
    "]"
   ]
  },
  {
   "cell_type": "markdown",
   "metadata": {},
   "source": [
    "Given target = 5, return true.\n",
    "\n",
    "Given target = 20, return false."
   ]
  },
  {
   "cell_type": "code",
   "execution_count": 1,
   "metadata": {
    "collapsed": true
   },
   "outputs": [],
   "source": [
    "def searchMatrix(matrix, target):\n",
    "    \"\"\"\n",
    "    :type matrix: List[List[int]]\n",
    "    :type target: int\n",
    "    :rtype: bool\n",
    "    \"\"\"\n",
    "    j = -1\n",
    "    for row in matrix:\n",
    "        while j+len(row) and row[j] > target:\n",
    "            j -= 1\n",
    "        if row[j] == target:\n",
    "            return True\n",
    "    return False"
   ]
  },
  {
   "cell_type": "markdown",
   "metadata": {},
   "source": [
    "https://leetcode.com/discuss/47571/4-lines-c-6-lines-ruby-7-lines-python-1-liners,\n",
    "O(m+n)\n",
    "How to prove it?"
   ]
  },
  {
   "cell_type": "markdown",
   "metadata": {},
   "source": [
    "# 199 Binary Tree Right Side View (Apr 16th)\n",
    "\n",
    "Given a binary tree, imagine yourself standing on the right side of it, return the values of the nodes you can see ordered from top to bottom.\n",
    "\n",
    "For example:\n",
    "Given the following binary tree,"
   ]
  },
  {
   "cell_type": "raw",
   "metadata": {},
   "source": [
    "   1            <---\n",
    " /   \\\n",
    "2     3         <---\n",
    " \\     \\\n",
    "  5     4       <---"
   ]
  },
  {
   "cell_type": "markdown",
   "metadata": {},
   "source": [
    "You should return [1, 3, 4]."
   ]
  },
  {
   "cell_type": "code",
   "execution_count": 3,
   "metadata": {
    "collapsed": true
   },
   "outputs": [],
   "source": [
    "# Definition for a binary tree node.\n",
    "class TreeNode(object):\n",
    "    def __init__(self, x):\n",
    "        self.val = x\n",
    "        self.left = None\n",
    "        self.right = None\n",
    "\n",
    "class Solution(object):\n",
    "    def rightSideView(self, root):\n",
    "        \"\"\"\n",
    "        :type root: TreeNode\n",
    "        :rtype: List[int]\n",
    "        \"\"\"\n",
    "        \"\"\"\n",
    "        # there is somthing wrong with the algorithm. modiy it.\n",
    "        if not root:\n",
    "            return []\n",
    "        res = []\n",
    "        \n",
    "        self.rightMost(root, res)\n",
    "        \n",
    "        return res\n",
    "        \n",
    "    def rightMost(self, root, res):\n",
    "        \n",
    "        if not root:\n",
    "            return\n",
    "        res.append(root.val)\n",
    "        if root.right:\n",
    "            self.rightMost(root.right, res)\n",
    "        else:\n",
    "            self.rightMost(root.left, res)\n",
    "        \"\"\"\n",
    "        if not root:\n",
    "            return []\n",
    "        right = self.rightSideView(root.right)\n",
    "        left = self.rightSideView(root.left)\n",
    "        return [root.val] + right + left[len(right):]"
   ]
  },
  {
   "cell_type": "markdown",
   "metadata": {},
   "source": [
    "not hard,but you have to think about it."
   ]
  },
  {
   "cell_type": "markdown",
   "metadata": {},
   "source": [
    "# 77 Combinations (Apr 16th)\n",
    "\n",
    "Given two integers n and k, return all possible combinations of k numbers out of 1 ... n.\n",
    "\n",
    "For example,\n",
    "\n",
    "If n = 4 and k = 2, a solution is:"
   ]
  },
  {
   "cell_type": "markdown",
   "metadata": {},
   "source": [
    "[\n",
    "  [2,4],\n",
    "  [3,4],\n",
    "  [2,3],\n",
    "  [1,2],\n",
    "  [1,3],\n",
    "  [1,4],\n",
    "]"
   ]
  },
  {
   "cell_type": "code",
   "execution_count": 1,
   "metadata": {
    "collapsed": true
   },
   "outputs": [],
   "source": [
    "def combine(n, k):\n",
    "    \"\"\"\n",
    "    :type n: int\n",
    "    :type k: int\n",
    "    :rtype: List[List[int]]\n",
    "    \"\"\"\n",
    "    \"\"\"\n",
    "    ans = []\n",
    "    for i in range(1, n+1):\n",
    "        j = i\n",
    "        res = []\n",
    "        while len(res) < k and j <= n:\n",
    "            res.append(j)\n",
    "            j += 1\n",
    "        if len(res) == k:\n",
    "            ans.append(res)\n",
    "    return ans\n",
    "    \"\"\"\n",
    "    ans = [[]]\n",
    "    for _ in range(k):\n",
    "        ans = [[i] + c for c in ans for i in range(1, c[0] if c else n+1)]\n",
    "    return ans"
   ]
  },
  {
   "cell_type": "markdown",
   "metadata": {
    "collapsed": true
   },
   "source": [
    "https://leetcode.com/discuss/37021/1-liner-3-liner-4-liner"
   ]
  },
  {
   "cell_type": "markdown",
   "metadata": {},
   "source": [
    "# 300 Longest Increasing Subsequence (Apr 17th)\n",
    "\n",
    "Given an unsorted array of integers, find the length of longest increasing subsequence.\n",
    "\n",
    "For example,\n",
    "\n",
    "Given [10, 9, 2, 5, 3, 7, 101, 18],\n",
    "The longest increasing subsequence is [2, 3, 7, 101], therefore the length is 4. Note that there may be more than one LIS combination, it is only necessary for you to return the length.\n",
    "\n",
    "* Your algorithm should run in O(n2) complexity.\n",
    "\n",
    "* Follow up: Could you improve it to O(n log n) time complexity?"
   ]
  },
  {
   "cell_type": "code",
   "execution_count": 1,
   "metadata": {
    "collapsed": true
   },
   "outputs": [],
   "source": [
    "class Solution(object):\n",
    "    def lengthOfLIS(self, nums):\n",
    "        \"\"\"\n",
    "        :type nums: List[int]\n",
    "        :rtype: int\n",
    "        \"\"\"\n",
    "        res = []\n",
    "        for n in nums:\n",
    "            i = self.binarySearch(res, 0, len(res), n)\n",
    "            if i >= len(res):\n",
    "                res.append(n)\n",
    "            else:\n",
    "                res[i] = n\n",
    "        return len(res)\n",
    "            \n",
    "        \n",
    "    def binarySearch(self, res, first, last, tar):\n",
    "        if first == last:\n",
    "            return first\n",
    "        mid = (first + last) / 2\n",
    "        if res[mid] < tar:\n",
    "            return self.binarySearch(res, mid+1, last, tar)\n",
    "        else:\n",
    "            return self.binarySearch(res, first, mid, tar)"
   ]
  },
  {
   "cell_type": "markdown",
   "metadata": {
    "collapsed": true
   },
   "source": [
    "It's a dynamic programming problem. Using a binary serach can reduce the complexity from O(n^2) to O(nlogn).\n",
    "The idea is to use a list to store the numbers. Find the next number in right position in result list. Finally, the length of the list is the longest increasing subsequence for the original array."
   ]
  },
  {
   "cell_type": "markdown",
   "metadata": {},
   "source": [
    "# 289 Game of Life (Apr 17th)\n",
    "\n",
    "According to the Wikipedia's article: \"The Game of Life, also known simply as Life, is a cellular automaton devised by the British mathematician John Horton Conway in 1970.\"\n",
    "\n",
    "Given a board with m by n cells, each cell has an initial state live (1) or dead (0). Each cell interacts with its eight neighbors (horizontal, vertical, diagonal) using the following four rules (taken from the above Wikipedia article):\n",
    "\n",
    "1. Any live cell with fewer than two live neighbors dies, as if caused by under-population.\n",
    "2. Any live cell with two or three live neighbors lives on to the next generation.\n",
    "3. Any live cell with more than three live neighbors dies, as if by over-population..\n",
    "4. Any dead cell with exactly three live neighbors becomes a live cell, as if by reproduction.\n",
    "Write a function to compute the next state (after one update) of the board given its current state.\n",
    "\n",
    "Follow up: \n",
    "\n",
    "1. Could you solve it in-place? Remember that the board needs to be updated at the same time: You cannot update some cells first and then use their updated values to update other cells.\n",
    "2. In this question, we represent the board using a 2D array. In principle, the board is infinite, which would cause problems when the active area encroaches the border of the array. How would you address these problems?"
   ]
  },
  {
   "cell_type": "code",
   "execution_count": null,
   "metadata": {
    "collapsed": true
   },
   "outputs": [],
   "source": [
    "class Solution(object):\n",
    "    def gameOfLife(self, board):\n",
    "        \"\"\"\n",
    "        :type board: List[List[int]]\n",
    "        :rtype: void Do not return anything, modify board in-place instead.\n",
    "        \"\"\"\n",
    "        m,n = len(board), len(board[0])\n",
    "        for i in range(m):\n",
    "            for j in range(n):\n",
    "                if board[i][j] == 0 or board[i][j] == 2:\n",
    "                    if self.nnb(board,i,j) == 3:\n",
    "                        board[i][j] = 2\n",
    "                else:\n",
    "                    if self.nnb(board,i,j) < 2 or self.nnb(board,i,j) >3:\n",
    "                        board[i][j] = 3\n",
    "        for i in range(m):\n",
    "            for j in range(n):\n",
    "                if board[i][j] == 2: board[i][j] = 1\n",
    "                if board[i][j] == 3: board[i][j] = 0\n",
    "\n",
    "    def nnb(self, board, i, j):\n",
    "        m,n = len(board), len(board[0])\n",
    "        count = 0\n",
    "        if i-1 >= 0 and j-1 >= 0:   count += board[i-1][j-1]%2\n",
    "        if i-1 >= 0:                count += board[i-1][j]%2\n",
    "        if i-1 >= 0 and j+1 < n:    count += board[i-1][j+1]%2\n",
    "        if j-1 >= 0:                count += board[i][j-1]%2\n",
    "        if j+1 < n:                 count += board[i][j+1]%2\n",
    "        if i+1 < m and j-1 >= 0:    count += board[i+1][j-1]%2\n",
    "        if i+1 < m:                 count += board[i+1][j]%2\n",
    "        if i+1 < m and j+1 < n:     count += board[i+1][j+1]%2\n",
    "        return count"
   ]
  },
  {
   "cell_type": "markdown",
   "metadata": {
    "collapsed": true
   },
   "source": [
    "https://leetcode.com/discuss/63956/python-solution-easy-to-understand"
   ]
  },
  {
   "cell_type": "markdown",
   "metadata": {},
   "source": [
    "# 313 Super Ugly Number (Apr 17th)\n",
    "\n",
    "Write a program to find the nth super ugly number.\n",
    "\n",
    "Super ugly numbers are positive numbers whose all prime factors are in the given prime list primes of size k. For example, [1, 2, 4, 7, 8, 13, 14, 16, 19, 26, 28, 32] is the sequence of the first 12 super ugly numbers given primes = [2, 7, 13, 19] of size 4.\n",
    "\n",
    "Note:\n",
    "* 1 is a super ugly number for any given primes.\n",
    "* The given numbers in primes are in ascending order.\n",
    "* 0 < k ≤ 100, 0 < n ≤ 106, 0 < primes[i] < 1000."
   ]
  },
  {
   "cell_type": "code",
   "execution_count": 1,
   "metadata": {
    "collapsed": true
   },
   "outputs": [],
   "source": [
    "def nthSuperUglyNumber(n, primes):\n",
    "    \"\"\"\n",
    "    :type n: int\n",
    "    :type primes: List[int]\n",
    "    :rtype: int\n",
    "    \"\"\"\n",
    "    if n == 1:\n",
    "        return 1\n",
    "    ret = [0]*n\n",
    "    ret[0] = 1\n",
    "    indice = [0]*len(primes)\n",
    "\n",
    "    for i in range(1,n):\n",
    "        ret[i] = sys.maxint\n",
    "\n",
    "        for j in range(len(primes)):\n",
    "            ret[i] = min(ret[i], primes[j] * ret[indice[j]])\n",
    "\n",
    "        for j in range(len(indice)):\n",
    "            if(ret[i] == primes[j] * ret[indice[j]]):\n",
    "                indice[j] += 1\n",
    "    return ret[n - 1]"
   ]
  },
  {
   "cell_type": "markdown",
   "metadata": {
    "collapsed": true
   },
   "source": [
    "It's a real slow solution.  https://leetcode.com/discuss/72835/108ms-easy-to-understand-java-solution,\n",
    "faster using heap:\n",
    "https://leetcode.com/discuss/72711/using-min-heap-accepted-java-and-python-code"
   ]
  },
  {
   "cell_type": "markdown",
   "metadata": {},
   "source": [
    "# 74 Search a 2D Matrix (Apr 17th)\n",
    "\n",
    "Write an efficient algorithm that searches for a value in an m x n matrix. This matrix has the following properties:\n",
    "\n",
    "Integers in each row are sorted from left to right.\n",
    "The first integer of each row is greater than the last integer of the previous row.\n",
    "For example,\n",
    "\n",
    "Consider the following matrix:"
   ]
  },
  {
   "cell_type": "raw",
   "metadata": {},
   "source": [
    "[\n",
    "  [1,   3,  5,  7],\n",
    "  [10, 11, 16, 20],\n",
    "  [23, 30, 34, 50]\n",
    "]"
   ]
  },
  {
   "cell_type": "markdown",
   "metadata": {},
   "source": [
    "Given target = 3, return true."
   ]
  },
  {
   "cell_type": "code",
   "execution_count": null,
   "metadata": {
    "collapsed": true
   },
   "outputs": [],
   "source": [
    "def searchMatrix(matrix, target):\n",
    "    \"\"\"\n",
    "    :type matrix: List[List[int]]\n",
    "    :type target: int\n",
    "    :rtype: bool\n",
    "    \"\"\"\n",
    "    m = len(matrix)\n",
    "    n = len(matrix[0])\n",
    "    first = 0\n",
    "    last = m*n-1\n",
    "    while first < last:\n",
    "        mid = (first + last) / 2\n",
    "        i = mid / n \n",
    "        j = mid % n\n",
    "        if target == matrix[i][j]:\n",
    "            return True\n",
    "        elif target < matrix[i][j]:\n",
    "            last = mid\n",
    "        elif target > matrix[i][j]:\n",
    "            first = mid + 1\n",
    "    if first == last and target == matrix[first/n][first%n]:\n",
    "        return True\n",
    "    return False"
   ]
  },
  {
   "cell_type": "markdown",
   "metadata": {
    "collapsed": true
   },
   "source": [
    "Similar to 240. But it's more special. The idea is to use the binary search and convert the mid to [i][j]."
   ]
  },
  {
   "cell_type": "markdown",
   "metadata": {},
   "source": [
    "# 284 Peeking Iterator (Apr 17th)\n",
    "\n",
    "Given an Iterator class interface with methods: next() and hasNext(), design and implement a PeekingIterator that support the peek() operation -- it essentially peek() at the element that will be returned by the next call to next().\n",
    "\n",
    "Here is an example. Assume that the iterator is initialized to the beginning of the list: [1, 2, 3].\n",
    "\n",
    "Call next() gets you 1, the first element in the list.\n",
    "\n",
    "Now you call peek() and it returns 2, the next element. Calling next() after that still return 2.\n",
    "\n",
    "You call next() the final time and it returns 3, the last element. Calling hasNext() after that should return false.\n",
    "\n",
    "Hint:\n",
    "\n",
    "1. Think of \"looking ahead\". You want to cache the next element.\n",
    "2. Is one variable sufficient? Why or why not?\n",
    "3. Test your design with call order of peek() before next() vs next() before peek().\n",
    "4. For a clean implementation, check out Google's guava library source code.\n",
    "\n",
    "Follow up: \n",
    "\n",
    "How would you extend your design to be generic and work with all types, not just integer?"
   ]
  },
  {
   "cell_type": "code",
   "execution_count": 2,
   "metadata": {
    "collapsed": true
   },
   "outputs": [],
   "source": [
    "# Below is the interface for Iterator, which is already defined for you.\n",
    "#\n",
    "# class Iterator(object):\n",
    "#     def __init__(self, nums):\n",
    "#         \"\"\"\n",
    "#         Initializes an iterator object to the beginning of a list.\n",
    "#         :type nums: List[int]\n",
    "#         \"\"\"\n",
    "#\n",
    "#     def hasNext(self):\n",
    "#         \"\"\"\n",
    "#         Returns true if the iteration has more elements.\n",
    "#         :rtype: bool\n",
    "#         \"\"\"\n",
    "#\n",
    "#     def next(self):\n",
    "#         \"\"\"\n",
    "#         Returns the next element in the iteration.\n",
    "#         :rtype: int\n",
    "#         \"\"\"\n",
    "\n",
    "class PeekingIterator(object):\n",
    "    def __init__(self, iterator):\n",
    "        \"\"\"\n",
    "        Initialize your data structure here.\n",
    "        :type iterator: Iterator\n",
    "        \"\"\"\n",
    "        self.iter = iterator\n",
    "        self.temp = self.iter.next() if self.iter.hasNext() else None\n",
    "\n",
    "    def peek(self):\n",
    "        \"\"\"\n",
    "        Returns the next element in the iteration without advancing the iterator.\n",
    "        :rtype: int\n",
    "        \"\"\"\n",
    "        return self.temp\n",
    "\n",
    "    def next(self):\n",
    "        \"\"\"\n",
    "        :rtype: int\n",
    "        \"\"\"\n",
    "        ret = self.temp\n",
    "        self.temp = self.iter.next() if self.iter.hasNext() else None\n",
    "        return ret\n",
    "\n",
    "    def hasNext(self):\n",
    "        \"\"\"\n",
    "        :rtype: bool\n",
    "        \"\"\"\n",
    "        return self.temp is not None\n",
    "\n",
    "# Your PeekingIterator object will be instantiated and called as such:\n",
    "# iter = PeekingIterator(Iterator(nums))\n",
    "# while iter.hasNext():\n",
    "#     val = iter.peek()   # Get the next element but not advance the iterator.\n",
    "#     iter.next()         # Should return the same value as [val]."
   ]
  },
  {
   "cell_type": "markdown",
   "metadata": {
    "collapsed": true
   },
   "source": [
    "https://leetcode.com/discuss/60261/simple-python-solution"
   ]
  },
  {
   "cell_type": "markdown",
   "metadata": {},
   "source": [
    "# 73 Set Matrix Zeroes (Apr 17th)\n",
    "\n",
    "Given a m x n matrix, if an element is 0, set its entire row and column to 0. Do it in place.\n",
    "\n",
    "Follow up:\n",
    "\n",
    "1. Did you use extra space?\n",
    "2. A straight forward solution using O(mn) space is probably a bad idea.\n",
    "3. A simple improvement uses O(m + n) space, but still not the best solution.\n",
    "4. Could you devise a constant space solution?"
   ]
  },
  {
   "cell_type": "code",
   "execution_count": 3,
   "metadata": {
    "collapsed": true
   },
   "outputs": [],
   "source": [
    "def setZeroes(matrix):\n",
    "    \"\"\"\n",
    "    :type matrix: List[List[int]]\n",
    "    :rtype: void Do not return anything, modify matrix in-place instead.\n",
    "    \"\"\"\n",
    "    m, n, frzero = len(matrix), len(matrix[0]), not all(matrix[0])\n",
    "\n",
    "    for i in xrange(1, m):\n",
    "        for j in xrange(n):\n",
    "            if matrix[i][j] == 0:\n",
    "                matrix[i][0] = matrix[0][j] = 0\n",
    "\n",
    "    for i in xrange(1, m):\n",
    "        for j in xrange(n-1, -1, -1):\n",
    "            if matrix[0][j] == 0 or matrix[i][0] == 0:\n",
    "                matrix[i][j] = 0\n",
    "\n",
    "    if frzero:\n",
    "        matrix[0] = [0]*n"
   ]
  },
  {
   "cell_type": "markdown",
   "metadata": {
    "collapsed": true
   },
   "source": [
    "It's important to understand the idea."
   ]
  },
  {
   "cell_type": "markdown",
   "metadata": {},
   "source": [
    "# 215 Kth Largest Element in an Array (Apr 18th)\n",
    "\n",
    "Find the kth largest element in an unsorted array. Note that it is the kth largest element in the sorted order, not the kth distinct element.\n",
    "\n",
    "For example,\n",
    "\n",
    "Given [3,2,1,5,6,4] and k = 2, return 5.\n",
    "\n",
    "Note: \n",
    "\n",
    "You may assume k is always valid, 1 ≤ k ≤ array's length."
   ]
  },
  {
   "cell_type": "code",
   "execution_count": 4,
   "metadata": {
    "collapsed": true
   },
   "outputs": [],
   "source": [
    "def findKthLargest(nums, k):\n",
    "    \"\"\"\n",
    "    :type nums: List[int]\n",
    "    :type k: int\n",
    "    :rtype: int\n",
    "    \"\"\"\n",
    "    return sorted(nums)[-k]"
   ]
  },
  {
   "cell_type": "markdown",
   "metadata": {},
   "source": [
    "explanation: https://leetcode.com/discuss/36966/solution-explained\n",
    "The idea is to sort the nums then choose the kth largest number."
   ]
  },
  {
   "cell_type": "markdown",
   "metadata": {},
   "source": [
    "# 334 Increasing Triplet Subsequence (Apr 18th)\n",
    "\n",
    "Given an unsorted array return whether an increasing subsequence of length 3 exists or not in the array.\n",
    "\n",
    "Formally the function should:\n",
    "Return true if there exists i, j, k \n",
    "such that arr[i] < arr[j] < arr[k] given 0 ≤ i < j < k ≤ n-1 else return false.\n",
    "Your algorithm should run in O(n) time complexity and O(1) space complexity.\n",
    "\n",
    "Examples:\n",
    "\n",
    "Given [1, 2, 3, 4, 5],\n",
    "return true.\n",
    "\n",
    "Given [5, 4, 3, 2, 1],\n",
    "return false."
   ]
  },
  {
   "cell_type": "code",
   "execution_count": 5,
   "metadata": {
    "collapsed": true
   },
   "outputs": [],
   "source": [
    "def increasingTriplet(nums):\n",
    "    \"\"\"\n",
    "    :type nums: List[int]\n",
    "    :rtype: bool\n",
    "    \"\"\"\n",
    "    first = second = float('inf')\n",
    "    for n in nums:\n",
    "        if n <= first:\n",
    "            first = n\n",
    "        elif n <= second:\n",
    "            second = n\n",
    "        else:\n",
    "            return True\n",
    "    return False"
   ]
  },
  {
   "cell_type": "markdown",
   "metadata": {},
   "source": [
    "Really great idea."
   ]
  },
  {
   "cell_type": "markdown",
   "metadata": {},
   "source": [
    "# 162 Find Peak Element (Apr 18th)\n",
    "\n",
    "A peak element is an element that is greater than its neighbors.\n",
    "\n",
    "Given an input array where num[i] ≠ num[i+1], find a peak element and return its index.\n",
    "\n",
    "The array may contain multiple peaks, in that case return the index to any one of the peaks is fine.\n",
    "\n",
    "You may imagine that num[-1] = num[n] = -∞.\n",
    "\n",
    "For example, in array [1, 2, 3, 1], 3 is a peak element and your function should return the index number 2.\n",
    "\n",
    "###### Note:\n",
    "Your solution should be in logarithmic complexity."
   ]
  },
  {
   "cell_type": "code",
   "execution_count": 6,
   "metadata": {
    "collapsed": true
   },
   "outputs": [],
   "source": [
    "def findPeakElement(nums):\n",
    "    \"\"\"\n",
    "    :type nums: List[int]\n",
    "    :rtype: int\n",
    "    \"\"\"\n",
    "    return nums.index(max(nums))"
   ]
  },
  {
   "cell_type": "markdown",
   "metadata": {},
   "source": [
    "https://leetcode.com/discuss/17793/find-the-maximum-by-binary-search-recursion-and-iteration\n"
   ]
  },
  {
   "cell_type": "markdown",
   "metadata": {},
   "source": [
    "# 80 Remove Duplicates from Sorted Array II (Apr 18th)\n",
    "\n",
    "Follow up for \"Remove Duplicates\":\n",
    "What if duplicates are allowed at most twice?\n",
    "\n",
    "For example,\n",
    "Given sorted array nums = [1,1,1,2,2,3],\n",
    "\n",
    "Your function should return length = 5, with the first five elements of nums being 1, 1, 2, 2 and 3. It doesn't matter what you leave beyond the new length."
   ]
  },
  {
   "cell_type": "code",
   "execution_count": 46,
   "metadata": {
    "collapsed": false
   },
   "outputs": [],
   "source": [
    "def removeDuplicates(nums):\n",
    "    \"\"\"\n",
    "    :type nums: List[int]\n",
    "    :rtype: int\n",
    "    \"\"\"\n",
    "    \"\"\"\n",
    "    l = len(set(nums))\n",
    "    if len(nums) == l:\n",
    "        return l\n",
    "    for i in set(nums):\n",
    "        nums.remove(i)\n",
    "    l1 = len(nums) - len(set(nums))\n",
    "    return l + l1\n",
    "    \n",
    "    length = 0\n",
    "    for n in set(nums):\n",
    "        if nums.count(n) > 1:\n",
    "            length += 1\n",
    "    return length + len(set(nums))\n",
    "    \"\"\"\n",
    "    i = 0\n",
    "    for n in nums:\n",
    "        if i < 2 or nums[i-2] > n:\n",
    "            nums[i] = n\n",
    "            i += 1\n",
    "    return i"
   ]
  },
  {
   "cell_type": "code",
   "execution_count": 47,
   "metadata": {
    "collapsed": false
   },
   "outputs": [
    {
     "data": {
      "text/plain": [
       "2"
      ]
     },
     "execution_count": 47,
     "metadata": {},
     "output_type": "execute_result"
    }
   ],
   "source": [
    "nums = [1,1,1,1,1]\n",
    "removeDuplicates(nums)"
   ]
  },
  {
   "cell_type": "markdown",
   "metadata": {},
   "source": [
    "It's a good solution: https://leetcode.com/discuss/42348/3-6-easy-lines-c-java-python-ruby"
   ]
  },
  {
   "cell_type": "markdown",
   "metadata": {},
   "source": [
    "# 129 Sum Root to Leaf Numbers (Apr 18th)\n",
    "\n",
    "Given a binary tree containing digits from 0-9 only, each root-to-leaf path could represent a number.\n",
    "\n",
    "An example is the root-to-leaf path 1->2->3 which represents the number 123.\n",
    "\n",
    "Find the total sum of all root-to-leaf numbers.\n",
    "\n",
    "For example,"
   ]
  },
  {
   "cell_type": "raw",
   "metadata": {},
   "source": [
    "    1\n",
    "   / \\\n",
    "  2   3"
   ]
  },
  {
   "cell_type": "markdown",
   "metadata": {},
   "source": [
    "The root-to-leaf path 1->2 represents the number 12.\n",
    "The root-to-leaf path 1->3 represents the number 13.\n",
    "\n",
    "Return the sum = 12 + 13 = 25."
   ]
  },
  {
   "cell_type": "code",
   "execution_count": 12,
   "metadata": {
    "collapsed": true
   },
   "outputs": [],
   "source": [
    "# Definition for a binary tree node.\n",
    "# class TreeNode(object):\n",
    "#     def __init__(self, x):\n",
    "#         self.val = x\n",
    "#         self.left = None\n",
    "#         self.right = None\n",
    "\n",
    "class Solution(object):\n",
    "    def sumNumbers(self, root):\n",
    "        \"\"\"\n",
    "        :type root: TreeNode\n",
    "        :rtype: int\n",
    "        \"\"\"\n",
    "        self.res = 0\n",
    "        self.dfs(root, 0)\n",
    "        return self.res\n",
    "        \n",
    "    def dfs(self, node, value):\n",
    "        if node:\n",
    "            self.dfs(node.left, value * 10 + node.val)\n",
    "            self.dfs(node.right, value * 10 + node.val)\n",
    "            if not node.left and not node.right:\n",
    "                self.res += value * 10 + node.val"
   ]
  },
  {
   "cell_type": "markdown",
   "metadata": {},
   "source": [
    "dfs solution. There is an explanation: https://leetcode.com/discuss/51851/python-solutions-dfs-stack-bfs-queue-dfs-recursively"
   ]
  },
  {
   "cell_type": "markdown",
   "metadata": {},
   "source": [
    "# 279 Perfect Squares (Apr 18th)\n",
    "\n",
    "Given a positive integer n, find the least number of perfect square numbers (for example, 1, 4, 9, 16, ...) which sum to n.\n",
    "\n",
    "For example, given n = 12, return 3 because 12 = 4 + 4 + 4; given n = 13, return 2 because 13 = 4 + 9."
   ]
  },
  {
   "cell_type": "code",
   "execution_count": 13,
   "metadata": {
    "collapsed": true
   },
   "outputs": [],
   "source": [
    "def numSquares(n):\n",
    "    \"\"\"\n",
    "    :type n: int\n",
    "    :rtype: int\n",
    "    \"\"\"\n",
    "    if n < 2:\n",
    "        return n\n",
    "\n",
    "    lst = []\n",
    "    i = 1\n",
    "    while i ** 2 <= n:\n",
    "        lst.append(i**2)\n",
    "        i += 1\n",
    "    cnt = 0\n",
    "    toCheck = {n}\n",
    "    while toCheck:\n",
    "        cnt += 1\n",
    "        temp = set()\n",
    "        for x in toCheck:\n",
    "            for y in lst:\n",
    "                if x == y:\n",
    "                    return cnt\n",
    "                if x < y:\n",
    "                    break\n",
    "                temp.add(x-y)\n",
    "\n",
    "        toCheck = temp\n",
    "    return cnt"
   ]
  },
  {
   "cell_type": "markdown",
   "metadata": {},
   "source": [
    "BFS explanation: https://leetcode.com/discuss/62229/short-python-solution-using-bfs"
   ]
  },
  {
   "cell_type": "markdown",
   "metadata": {},
   "source": [
    "# 274 H-Index (Apr 19th)\n",
    "\n",
    "Given an array of citations (each citation is a non-negative integer) of a researcher, write a function to compute the researcher's h-index.\n",
    "\n",
    "According to the definition of h-index on Wikipedia: \"A scientist has index h if h of his/her N papers have at least h citations each, and the other N − h papers have no more than h citations each.\"\n",
    "\n",
    "For example, given citations = [3, 0, 6, 1, 5], which means the researcher has 5 papers in total and each of them had received 3, 0, 6, 1, 5 citations respectively. Since the researcher has 3 papers with at least 3 citations each and the remaining two with no more than 3 citations each, his h-index is 3.\n",
    "\n",
    "Note: If there are several possible values for h, the maximum one is taken as the h-index.\n",
    "\n",
    "Hint:\n",
    "\n",
    "1. An easy approach is to sort the array first.\n",
    "2. What are the possible values of h-index?\n",
    "3. A faster approach is to use extra space.\n"
   ]
  },
  {
   "cell_type": "code",
   "execution_count": 48,
   "metadata": {
    "collapsed": true
   },
   "outputs": [],
   "source": [
    "def hIndex(citations):\n",
    "    \"\"\"\n",
    "    :type citations: List[int]\n",
    "    :rtype: int\n",
    "    \"\"\"\n",
    "    citations.sort()\n",
    "    n = len(citations)\n",
    "    for i in xrange(n):\n",
    "        if citations[i] >= (n-i):\n",
    "            return n-i\n",
    "    return 0"
   ]
  },
  {
   "cell_type": "markdown",
   "metadata": {},
   "source": [
    "https://leetcode.com/discuss/56987/python-o-n-lgn-time-with-sort-o-n-time-with-o-n-space"
   ]
  },
  {
   "cell_type": "markdown",
   "metadata": {},
   "source": [
    "# 275 H-Index II (Apr 19th)\n",
    "\n",
    "Follow up for H-Index: What if the citations array is sorted in ascending order? Could you optimize your algorithm?\n",
    "\n",
    "Hint:\n",
    "\n",
    "Expected runtime complexity is in O(log n) and the input is sorted."
   ]
  },
  {
   "cell_type": "code",
   "execution_count": 49,
   "metadata": {
    "collapsed": true
   },
   "outputs": [],
   "source": [
    "def hIndex(citations):\n",
    "    \"\"\"\n",
    "    :type citations: List[int]\n",
    "    :rtype: int\n",
    "    \"\"\"\n",
    "    N = len(citations)\n",
    "    low, high = 0, N - 1\n",
    "    while low <= high:\n",
    "        mid = (low + high) / 2\n",
    "        if N - mid > citations[mid]:\n",
    "            low = mid + 1\n",
    "        else:\n",
    "            high = mid - 1\n",
    "    return N - low"
   ]
  },
  {
   "cell_type": "code",
   "execution_count": 50,
   "metadata": {
    "collapsed": false
   },
   "outputs": [
    {
     "data": {
      "text/plain": [
       "4"
      ]
     },
     "execution_count": 50,
     "metadata": {},
     "output_type": "execute_result"
    }
   ],
   "source": [
    "hIndex([1,3,6,4,7,5,2,5])"
   ]
  },
  {
   "cell_type": "markdown",
   "metadata": {},
   "source": [
    "# 347 Top K Frequent Elements (Apr 19th)\n",
    "\n",
    "Given a non-empty array of integers, return the k most frequent elements.\n",
    "\n",
    "For example,\n",
    "\n",
    "Given [1,1,1,2,2,3] and k = 2, return [1,2].\n",
    "\n",
    "Note: \n",
    "\n",
    "You may assume k is always valid, 1 ≤ k ≤ number of unique elements.\n",
    "\n",
    "Your algorithm's time complexity must be better than O(n log n), where n is the array's size."
   ]
  },
  {
   "cell_type": "code",
   "execution_count": 1,
   "metadata": {
    "collapsed": true
   },
   "outputs": [],
   "source": [
    "from collections import Counter\n",
    "def topKFrequent(self, nums, k):\n",
    "    \"\"\"\n",
    "    :type nums: List[int]\n",
    "    :type k: int\n",
    "    :rtype: List[int]\n",
    "    \"\"\"\n",
    "    counter = Counter(nums).most_common(k)\n",
    "    return [key for key, count in counter]"
   ]
  },
  {
   "cell_type": "markdown",
   "metadata": {},
   "source": [
    "An one line solution: https://leetcode.com/discuss/100738/1-line-python-solution-using-counter-with-explanation\n",
    "The key point is to use the Counter....\n",
    "https://leetcode.com/discuss/101809/python-solution-sharing"
   ]
  },
  {
   "cell_type": "markdown",
   "metadata": {},
   "source": [
    "# 33 Search in Rotated Sorted Array (Apr 19th)\n",
    "\n",
    "Suppose a sorted array is rotated at some pivot unknown to you beforehand.\n",
    "\n",
    "(i.e., 0 1 2 4 5 6 7 might become 4 5 6 7 0 1 2).\n",
    "\n",
    "You are given a target value to search. If found in the array return its index, otherwise return -1.\n",
    "\n",
    "You may assume no duplicate exists in the array."
   ]
  },
  {
   "cell_type": "code",
   "execution_count": null,
   "metadata": {
    "collapsed": true
   },
   "outputs": [],
   "source": [
    "def search(nums, target):\n",
    "    \"\"\"\n",
    "    :type nums: List[int]\n",
    "    :type target: int\n",
    "    :rtype: int\n",
    "    \"\"\"\n",
    "    lo, hi = 0, len(nums) - 1\n",
    "    while lo < hi:\n",
    "        mid = (lo + hi) / 2\n",
    "        if (nums[0] > target) ^ (nums[0] > nums[mid]) ^ (target > nums[mid]):\n",
    "            lo = mid + 1\n",
    "        else:\n",
    "            hi = mid\n",
    "    return lo if target in nums[lo:lo+1] else -1"
   ]
  },
  {
   "cell_type": "markdown",
   "metadata": {},
   "source": [
    "https://leetcode.com/discuss/80607/pretty-short-c-java-ruby-python"
   ]
  },
  {
   "cell_type": "markdown",
   "metadata": {},
   "source": [
    "# 81 Search in Rotated Sorted Array II (Apr 19th)\n",
    "\n",
    "Follow up for \"Search in Rotated Sorted Array\":\n",
    "\n",
    "What if duplicates are allowed?\n",
    "\n",
    "Would this affect the run-time complexity? How and why?\n",
    "\n",
    "Write a function to determine if a given target is in the array."
   ]
  },
  {
   "cell_type": "code",
   "execution_count": null,
   "metadata": {
    "collapsed": true
   },
   "outputs": [],
   "source": [
    "def search(nums, target):\n",
    "    \"\"\"\n",
    "    :type nums: List[int]\n",
    "    :type target: int\n",
    "    :rtype: bool\n",
    "    \"\"\"\n",
    "    first, last = 0, len(nums)-1\n",
    "    while first <= last:\n",
    "        mid = (first + last) / 2\n",
    "        if nums[mid] == target:\n",
    "            return True\n",
    "        while first < mid and nums[first] == nums[mid]:\n",
    "            first += 1\n",
    "        if nums[first] <= nums[mid]:\n",
    "            if nums[first] <= target < nums[mid]:\n",
    "                last = mid - 1\n",
    "            else:\n",
    "                first = mid + 1\n",
    "        else:\n",
    "            if nums[mid] < target <= nums[last]:\n",
    "                first = mid + 1\n",
    "            else:\n",
    "                last = mid - 1\n",
    "    return False"
   ]
  },
  {
   "cell_type": "markdown",
   "metadata": {},
   "source": [
    "https://leetcode.com/discuss/50068/python-easy-to-understand-solution-with-comments"
   ]
  },
  {
   "cell_type": "markdown",
   "metadata": {
    "collapsed": true
   },
   "source": [
    "# 331 Verify Preorder Serialization of a Binary Tree (Apr 19th)\n",
    "\n",
    "One way to serialize a binary tree is to use pre-order traversal. When we encounter a non-null node, we record the node's value. If it is a null node, we record using a sentinel value such as #.\n"
   ]
  },
  {
   "cell_type": "raw",
   "metadata": {},
   "source": [
    "     _9_\n",
    "    /   \\\n",
    "   3     2\n",
    "  / \\   / \\\n",
    " 4   1  #  6\n",
    "/ \\ / \\   / \\\n",
    "# # # #   # #"
   ]
  },
  {
   "cell_type": "markdown",
   "metadata": {},
   "source": [
    "For example, the above binary tree can be serialized to the string \"9,3,4,#,#,1,#,#,2,#,6,#,#\", where # represents a null node.\n",
    "\n",
    "Given a string of comma separated values, verify whether it is a correct preorder traversal serialization of a binary tree. Find an algorithm without reconstructing the tree.\n",
    "\n",
    "Each comma separated value in the string must be either an integer or a character '#' representing null pointer.\n",
    "\n",
    "You may assume that the input format is always valid, for example it could never contain two consecutive commas such as \"1,,3\".\n",
    "\n",
    "###### Example 1:\n",
    "\"9,3,4,#,#,1,#,#,2,#,6,#,#\"\n",
    "Return true\n",
    "\n",
    "###### Example 2:\n",
    "\"1,#\"\n",
    "Return false\n",
    "\n",
    "###### Example 3:\n",
    "\"9,#,#,1\"\n",
    "Return false"
   ]
  },
  {
   "cell_type": "code",
   "execution_count": 1,
   "metadata": {
    "collapsed": true
   },
   "outputs": [],
   "source": [
    "class Solution(object):\n",
    "    def isValidSerialization(self, preorder):\n",
    "        \"\"\"\n",
    "        :type preorder: str\n",
    "        :rtype: bool\n",
    "        \"\"\"\n",
    "        stack = []\n",
    "        index = -1\n",
    "        p = preorder.split(\",\")\n",
    "        for s in p:\n",
    "            stack.append(s)\n",
    "            index += 1\n",
    "            while (self.hasTwoHashes(stack, index)):\n",
    "                stack.pop()\n",
    "                index -= 1\n",
    "                stack.pop()\n",
    "                index -= 1\n",
    "                if index < 0:\n",
    "                    return False\n",
    "                stack.pop()\n",
    "                stack.append(\"#\")\n",
    "        if len(stack) == 1:\n",
    "            if stack[0] == \"#\":\n",
    "                return True\n",
    "        return False\n",
    "        \n",
    "    def hasTwoHashes(self, stack, index):\n",
    "        if index < 1:\n",
    "            return False\n",
    "        if stack[index] == \"#\" and stack[index-1] == \"#\":\n",
    "            return True\n",
    "        return False"
   ]
  },
  {
   "cell_type": "markdown",
   "metadata": {},
   "source": [
    "https://leetcode.com/discuss/83825/simple-python-solution-using-stack-with-explanation"
   ]
  },
  {
   "cell_type": "markdown",
   "metadata": {},
   "source": [
    "# 78 Subsets (Apr 20th)\n",
    "\n",
    "Given a set of distinct integers, nums, return all possible subsets.\n",
    "\n",
    "Note:\n",
    "\n",
    "Elements in a subset must be in non-descending order.\n",
    "The solution set must not contain duplicate subsets.\n",
    "\n",
    "For example,\n",
    "\n",
    "If nums = [1,2,3], a solution is:"
   ]
  },
  {
   "cell_type": "raw",
   "metadata": {},
   "source": [
    "[\n",
    "  [3],\n",
    "  [1],\n",
    "  [2],\n",
    "  [1,2,3],\n",
    "  [1,3],\n",
    "  [2,3],\n",
    "  [1,2],\n",
    "  []\n",
    "]"
   ]
  },
  {
   "cell_type": "code",
   "execution_count": null,
   "metadata": {
    "collapsed": true
   },
   "outputs": [],
   "source": [
    "def subsets(nums):\n",
    "    \"\"\"\n",
    "    :type nums: List[int]\n",
    "    :rtype: List[List[int]]\n",
    "    \"\"\"\n",
    "    res = [[]]\n",
    "    for num in sorted(nums):\n",
    "        res +=  [item+[num] for item in res]\n",
    "    return res"
   ]
  },
  {
   "cell_type": "markdown",
   "metadata": {},
   "source": [
    "https://leetcode.com/discuss/47717/understand-solutions-recursively-manipulation-iteratively"
   ]
  },
  {
   "cell_type": "markdown",
   "metadata": {
    "collapsed": true
   },
   "source": [
    "# 142 Linked List Cycle II (Apr 20th)\n",
    "\n",
    "Given a linked list, return the node where the cycle begins. If there is no cycle, return null.\n",
    "\n",
    "Note: Do not modify the linked list.\n",
    "\n",
    "Follow up:\n",
    "\n",
    "Can you solve it without using extra space?"
   ]
  },
  {
   "cell_type": "code",
   "execution_count": 2,
   "metadata": {
    "collapsed": true
   },
   "outputs": [],
   "source": [
    "# Definition for singly-linked list.\n",
    "class ListNode(object):\n",
    "    def __init__(self, x):\n",
    "        self.val = x\n",
    "        self.next = None\n",
    "\n",
    "class Solution(object):\n",
    "    def detectCycle(self, head):\n",
    "        \"\"\"\n",
    "        :type head: ListNode\n",
    "        :rtype: ListNode\n",
    "        \"\"\"\n",
    "        # tell if the list is cycle\n",
    "        try:\n",
    "            fast = head.next\n",
    "            slow = head\n",
    "            while fast is not slow:\n",
    "                fast = fast.next.next\n",
    "                slow = slow.next\n",
    "        except:\n",
    "            return None\n",
    "        \n",
    "        # find the node\n",
    "        slow = slow.next\n",
    "        while head is not slow:\n",
    "            head = head.next\n",
    "            slow = slow.next\n",
    "        \n",
    "        return head"
   ]
  },
  {
   "cell_type": "markdown",
   "metadata": {
    "collapsed": true
   },
   "source": [
    "https://leetcode.com/discuss/43146/share-my-python-solution-with-detailed-explanation"
   ]
  },
  {
   "cell_type": "markdown",
   "metadata": {},
   "source": [
    "# 39 Combination Sum (Apr 20th)\n",
    "\n",
    "Given a set of candidate numbers (C) and a target number (T), find all unique combinations in C where the candidate numbers sums to T.\n",
    "\n",
    "The same repeated number may be chosen from C unlimited number of times.\n",
    "\n",
    "Note:\n",
    "\n",
    "1. All numbers (including target) will be positive integers.\n",
    "2. Elements in a combination (a1, a2, … , ak) must be in non-descending order. (ie, a1 ≤ a2 ≤ … ≤ ak).\n",
    "3. The solution set must not contain duplicate combinations.\n",
    "\n",
    "For example, given candidate set 2,3,6,7 and target 7, \n",
    "\n",
    "A solution set is:\n",
    "\n",
    "[7] \n",
    "[2, 2, 3] "
   ]
  },
  {
   "cell_type": "code",
   "execution_count": null,
   "metadata": {
    "collapsed": true
   },
   "outputs": [],
   "source": [
    "class Solution(object):\n",
    "    def combinationSum(self, candidates, target):\n",
    "        \"\"\"\n",
    "        :type candidates: List[int]\n",
    "        :type target: int\n",
    "        :rtype: List[List[int]]\n",
    "        \"\"\"\n",
    "        res = []\n",
    "        candidates.sort()\n",
    "        self.dfs(candidates, target, 0, [], res)\n",
    "        return res\n",
    "        \n",
    "    def dfs(self, nums, target, index, path, res):\n",
    "        if target < 0:\n",
    "            return\n",
    "        if target == 0:\n",
    "            res.append(path)\n",
    "            return\n",
    "        for i in xrange(index, len(nums)):\n",
    "            self.dfs(nums, target-nums[i], i, path+[nums[i]], res)\n",
    "            "
   ]
  },
  {
   "cell_type": "markdown",
   "metadata": {
    "collapsed": true
   },
   "source": [
    "https://leetcode.com/discuss/55666/python-dfs-solution"
   ]
  },
  {
   "cell_type": "markdown",
   "metadata": {},
   "source": [
    "# 114 Flatten Binary Tree to Linked List (Apr 20th)\n",
    "\n",
    "Given a binary tree, flatten it to a linked list in-place.\n",
    "\n",
    "For example,\n",
    "Given"
   ]
  },
  {
   "cell_type": "raw",
   "metadata": {},
   "source": [
    "         1\n",
    "        / \\\n",
    "       2   5\n",
    "      / \\   \\\n",
    "     3   4   6"
   ]
  },
  {
   "cell_type": "markdown",
   "metadata": {},
   "source": [
    "The flattened tree should look like:"
   ]
  },
  {
   "cell_type": "raw",
   "metadata": {},
   "source": [
    "   1\n",
    "    \\\n",
    "     2\n",
    "      \\\n",
    "       3\n",
    "        \\\n",
    "         4\n",
    "          \\\n",
    "           5\n",
    "            \\\n",
    "             6"
   ]
  },
  {
   "cell_type": "markdown",
   "metadata": {},
   "source": [
    "Hints:\n",
    "\n",
    "If you notice carefully in the flattened tree, each node's right child points to the next node of a pre-order traversal."
   ]
  },
  {
   "cell_type": "code",
   "execution_count": null,
   "metadata": {
    "collapsed": true
   },
   "outputs": [],
   "source": [
    "# Definition for a binary tree node.\n",
    "class TreeNode(object):\n",
    "    def __init__(self, x):\n",
    "        self.val = x\n",
    "        self.left = None\n",
    "        self.right = None\n",
    "\n",
    "class Solution(object):\n",
    "    prev = None\n",
    "    def flatten(self, root):\n",
    "        \"\"\"\n",
    "        :type root: TreeNode\n",
    "        :rtype: void Do not return anything, modify root in-place instead.\n",
    "        \"\"\"\n",
    "        if not root:\n",
    "            return\n",
    "        self.flatten(root.right)\n",
    "        self.flatten(root.left)\n",
    "        root.right, root.left = self.prev, None\n",
    "        self.prev = root"
   ]
  },
  {
   "cell_type": "markdown",
   "metadata": {
    "collapsed": true
   },
   "source": [
    "https://leetcode.com/discuss/29024/an-inorder-python-solution,\n",
    "https://leetcode.com/discuss/30719/my-short-post-order-traversal-java-solution-for-share"
   ]
  },
  {
   "cell_type": "markdown",
   "metadata": {},
   "source": [
    "# 213 House Robber II (Apr 20th)\n",
    "\n",
    "Note: This is an extension of House Robber.\n",
    "\n",
    "After robbing those houses on that street, the thief has found himself a new place for his thievery so that he will not get too much attention. This time, all houses at this place are arranged in a circle. That means the first house is the neighbor of the last one. Meanwhile, the security system for these houses remain the same as for those in the previous street.\n",
    "\n",
    "Given a list of non-negative integers representing the amount of money of each house, determine the maximum amount of money you can rob tonight without alerting the police."
   ]
  },
  {
   "cell_type": "code",
   "execution_count": null,
   "metadata": {
    "collapsed": true
   },
   "outputs": [],
   "source": [
    "def rob(nums):\n",
    "    \"\"\"\n",
    "    :type nums: List[int]\n",
    "    :rtype: int\n",
    "    \"\"\"\n",
    "    n = len(nums)\n",
    "    if n == 0:\n",
    "        return 0\n",
    "    if n < 4:\n",
    "        return max(nums)\n",
    "\n",
    "    first, second = 0, 0\n",
    "    for i in nums[:-1]:\n",
    "        first, second = second, max(first+i, second)\n",
    "    result = second\n",
    "\n",
    "    first, second = 0, 0\n",
    "    for i in nums[1:]:\n",
    "        first, second = second, max(first+i, second)\n",
    "    return max(result, second)"
   ]
  },
  {
   "cell_type": "markdown",
   "metadata": {
    "collapsed": true
   },
   "source": [
    "https://leetcode.com/discuss/54973/my-python-solution,\n",
    "https://leetcode.com/discuss/95465/easy-solution-in-python-with-9-lines"
   ]
  },
  {
   "cell_type": "markdown",
   "metadata": {},
   "source": [
    "# 90 Subsets II (Apr 20th)\n",
    "\n",
    "Given a collection of integers that might contain duplicates, nums, return all possible subsets.\n",
    "\n",
    "Note:\n",
    "1. Elements in a subset must be in non-descending order.\n",
    "2. The solution set must not contain duplicate subsets.\n",
    "\n",
    "For example,\n",
    "\n",
    "If nums = [1,2,2], a solution is:"
   ]
  },
  {
   "cell_type": "raw",
   "metadata": {},
   "source": [
    "[\n",
    "  [2],\n",
    "  [1],\n",
    "  [1,2,2],\n",
    "  [2,2],\n",
    "  [1,2],\n",
    "  []\n",
    "]"
   ]
  },
  {
   "cell_type": "code",
   "execution_count": null,
   "metadata": {
    "collapsed": true
   },
   "outputs": [],
   "source": [
    "def subsetsWithDup(nums):\n",
    "    \"\"\"\n",
    "    :type nums: List[int]\n",
    "    :rtype: List[List[int]]\n",
    "    \"\"\"\n",
    "    res = [[]]\n",
    "    nums.sort()\n",
    "    for i in range(len(nums)):\n",
    "        if i == 0 or nums[i] != nums[i-1]:\n",
    "            l = len(res)\n",
    "\n",
    "        for j in range(len(res)-l, len(res)):\n",
    "            res.append(res[j] + [nums[i]])\n",
    "\n",
    "    return res"
   ]
  },
  {
   "cell_type": "markdown",
   "metadata": {
    "collapsed": true
   },
   "source": [
    "https://leetcode.com/discuss/24597/simple-python-solution-without-extra-space"
   ]
  },
  {
   "cell_type": "markdown",
   "metadata": {},
   "source": [
    "# 109 Convert Sorted List to Binary Search Tree (Apr 21st)\n",
    "\n",
    "Given a singly linked list where elements are sorted in ascending order, convert it to a height balanced BST."
   ]
  },
  {
   "cell_type": "code",
   "execution_count": 1,
   "metadata": {
    "collapsed": true
   },
   "outputs": [],
   "source": [
    "# Definition for singly-linked list.\n",
    "class ListNode(object):\n",
    "    def __init__(self, x):\n",
    "        self.val = x\n",
    "        self.next = None\n",
    "\n",
    "# Definition for a binary tree node.\n",
    "class TreeNode(object):\n",
    "    def __init__(self, x):\n",
    "        self.val = x\n",
    "        self.left = None\n",
    "        self.right = None\n",
    "\n",
    "class Solution(object):\n",
    "    def sortedListToBST(self, head):\n",
    "        \"\"\"\n",
    "        :type head: ListNode\n",
    "        :rtype: TreeNode\n",
    "        \"\"\"\n",
    "        if not head:\n",
    "            return \n",
    "        if not head.next:\n",
    "            return TreeNode(head.val)\n",
    "        \n",
    "        slow, fast = head, head.next.next\n",
    "        while fast and fast.next:\n",
    "            fast = fast.next.next\n",
    "            slow = slow.next\n",
    "            \n",
    "        tmpRoot = slow.next\n",
    "        slow.next = None #it's important to cut down the list\n",
    "        root = TreeNode(tmpRoot.val)\n",
    "        root.left = self.sortedListToBST(head)\n",
    "        root.right = self.sortedListToBST(tmpRoot.next)\n",
    "        return root"
   ]
  },
  {
   "cell_type": "markdown",
   "metadata": {
    "collapsed": true
   },
   "source": [
    "https://leetcode.com/discuss/51961/python-recursive-solution-detailed-comments-operate-directly"
   ]
  },
  {
   "cell_type": "markdown",
   "metadata": {},
   "source": [
    "# 201 Bitwise AND of Numbers Range (Apr 21st)\n",
    "\n",
    "Given a range [m, n] where 0 <= m <= n <= 2147483647, return the bitwise AND of all numbers in this range, inclusive.\n",
    "\n",
    "For example, given the range [5, 7], you should return 4."
   ]
  },
  {
   "cell_type": "code",
   "execution_count": 2,
   "metadata": {
    "collapsed": true
   },
   "outputs": [],
   "source": [
    "def rangeBitwiseAnd(m, n):\n",
    "    \"\"\"\n",
    "    :type m: int\n",
    "    :type n: int\n",
    "    :rtype: int\n",
    "    \"\"\"\n",
    "    \"\"\" it doesn't work.\n",
    "    res = m\n",
    "    for i in range(m+1,n+1):\n",
    "        res = i & res\n",
    "    return res\n",
    "    \"\"\"\n",
    "    i = 0\n",
    "    while m != n:\n",
    "        m >>= 1\n",
    "        n >>= 1\n",
    "        i += 1\n",
    "    return n << i"
   ]
  },
  {
   "cell_type": "code",
   "execution_count": 3,
   "metadata": {
    "collapsed": false
   },
   "outputs": [
    {
     "data": {
      "text/plain": [
       "0"
      ]
     },
     "execution_count": 3,
     "metadata": {},
     "output_type": "execute_result"
    }
   ],
   "source": [
    "rangeBitwiseAnd(0,2147483647)"
   ]
  },
  {
   "cell_type": "markdown",
   "metadata": {},
   "source": [
    "https://leetcode.com/discuss/67187/java-python-easy-solution-with-explanation"
   ]
  },
  {
   "cell_type": "markdown",
   "metadata": {},
   "source": [
    "# 120. Triangle (Apr 21st)\n",
    "\n",
    "Given a triangle, find the minimum path sum from top to bottom. Each step you may move to adjacent numbers on the row below.\n",
    "\n",
    "For example, given the following triangle"
   ]
  },
  {
   "cell_type": "raw",
   "metadata": {},
   "source": [
    "[\n",
    "     [2],\n",
    "    [3,4],\n",
    "   [6,5,7],\n",
    "  [4,1,8,3]\n",
    "]"
   ]
  },
  {
   "cell_type": "markdown",
   "metadata": {},
   "source": [
    "The minimum path sum from top to bottom is 11 (i.e., 2 + 3 + 5 + 1 = 11).\n",
    "\n",
    "###### Note:\n",
    "Bonus point if you are able to do this using only O(n) extra space, where n is the total number of rows in the triangle."
   ]
  },
  {
   "cell_type": "code",
   "execution_count": null,
   "metadata": {
    "collapsed": true
   },
   "outputs": [],
   "source": [
    "def minimumTotal(triangle):\n",
    "    \"\"\"\n",
    "    :type triangle: List[List[int]]\n",
    "    :rtype: int\n",
    "    \"\"\"\n",
    "    if not triangle:\n",
    "        return\n",
    "    res = triangle[-1]\n",
    "    l = len(triangle)\n",
    "    for i in xrange(l-2, -1, -1):\n",
    "        for j in xrange(len(triangle[i]):\n",
    "            res[j] = min(res[j], res[j+1]) + triangle[i][j]\n",
    "\n",
    "    return res[0]"
   ]
  },
  {
   "cell_type": "markdown",
   "metadata": {
    "collapsed": true
   },
   "source": [
    "Great explanation: https://leetcode.com/discuss/5337/dp-solution-for-triangle,\n",
    "It's a dynamic programming problem.\n",
    "https://leetcode.com/discuss/48165/python-easy-to-understand-solutions-top-down-bottom-up"
   ]
  },
  {
   "cell_type": "markdown",
   "metadata": {},
   "source": [
    "# 86 Partition List (Apr 21st)\n",
    "\n",
    "Given a linked list and a value x, partition it such that all nodes less than x come before nodes greater than or equal to x.\n",
    "\n",
    "You should preserve the original relative order of the nodes in each of the two partitions.\n",
    "\n",
    "For example,\n",
    "\n",
    "Given 1->4->3->2->5->2 and x = 3,\n",
    "return 1->2->2->4->3->5."
   ]
  },
  {
   "cell_type": "code",
   "execution_count": 1,
   "metadata": {
    "collapsed": true
   },
   "outputs": [],
   "source": [
    "# Definition for singly-linked list.\n",
    "class ListNode(object):\n",
    "    def __init__(self, x):\n",
    "        self.val = x\n",
    "        self.next = None\n",
    "\n",
    "class Solution(object):\n",
    "    def partition(self, head, x):\n",
    "        \"\"\"\n",
    "        :type head: ListNode\n",
    "        :type x: int\n",
    "        :rtype: ListNode\n",
    "        \"\"\"\n",
    "        h1 = l1 = ListNode(0)\n",
    "        h2 = l2 = ListNode(0)\n",
    "        \n",
    "        while (head):\n",
    "            if head.val < x:\n",
    "                l1.next = head\n",
    "                l1 = l1.next\n",
    "            else:\n",
    "                l2.next = head\n",
    "                l2 = l2.next\n",
    "            head = head.next\n",
    "        l2.next = None\n",
    "        l1.next = h2.next\n",
    "        return h1.next"
   ]
  },
  {
   "cell_type": "markdown",
   "metadata": {
    "collapsed": true
   },
   "source": [
    "https://leetcode.com/discuss/21032/very-concise-one-pass-solution"
   ]
  },
  {
   "cell_type": "markdown",
   "metadata": {},
   "source": [
    "# 147. Insertion Sort List (Apr 21st)\n",
    "\n",
    "Sort a linked list using insertion sort."
   ]
  },
  {
   "cell_type": "code",
   "execution_count": 2,
   "metadata": {
    "collapsed": true
   },
   "outputs": [],
   "source": [
    "# Definition for singly-linked list.\n",
    "class ListNode(object):\n",
    "    def __init__(self, x):\n",
    "        self.val = x\n",
    "        self.next = None\n",
    "\n",
    "class Solution(object):\n",
    "    def insertionSortList(self, head):\n",
    "        \"\"\"\n",
    "        :type head: ListNode\n",
    "        :rtype: ListNode\n",
    "        \"\"\"\n",
    "        cur = dummy = ListNode(0)\n",
    "        while head:\n",
    "            if cur and cur.val > head.val:\n",
    "                cur = dummy\n",
    "            while cur.next and cur.next.val < head.val:\n",
    "                cur = cur.next\n",
    "            cur.next = head\n",
    "            cur.next.next = cur.next\n",
    "            head = head.next\n",
    "        return dummy.next"
   ]
  },
  {
   "cell_type": "markdown",
   "metadata": {
    "collapsed": true
   },
   "source": [
    "https://leetcode.com/discuss/72582/concise-python-solution-with-comments,\n",
    "https://leetcode.com/discuss/15622/python-time-limit-is-too-tight,\n",
    "https://leetcode.com/discuss/63052/ac-python-192ms-solution"
   ]
  },
  {
   "cell_type": "markdown",
   "metadata": {},
   "source": [
    "# 330. Patching Array (Apr 21st)\n",
    "\n",
    "Given a sorted positive integer array nums and an integer n, add/patch elements to the array such that any number in range [1, n] inclusive can be formed by the sum of some elements in the array. Return the minimum number of patches required.\n",
    "\n",
    "###### Example 1:\n",
    "nums = [1, 3], n = 6\n",
    "Return 1.\n",
    "\n",
    "Combinations of nums are [1], [3], [1,3], which form possible sums of: 1, 3, 4.\n",
    "Now if we add/patch 2 to nums, the combinations are: [1], [2], [3], [1,3], [2,3], [1,2,3].\n",
    "Possible sums are 1, 2, 3, 4, 5, 6, which now covers the range [1, 6].\n",
    "So we only need 1 patch.\n",
    "\n",
    "###### Example 2:\n",
    "nums = [1, 5, 10], n = 20\n",
    "Return 2.\n",
    "The two patches can be [2, 4].\n",
    "\n",
    "###### Example 3:\n",
    "nums = [1, 2, 2], n = 5\n",
    "Return 0."
   ]
  },
  {
   "cell_type": "code",
   "execution_count": 4,
   "metadata": {
    "collapsed": true
   },
   "outputs": [],
   "source": [
    "def minPatches(nums, n):\n",
    "    \"\"\"\n",
    "    :type nums: List[int]\n",
    "    :type n: int\n",
    "    :rtype: int\n",
    "    \"\"\"\n",
    "    count = 0\n",
    "    summ = 0\n",
    "    for x in nums:\n",
    "        if summ >= n:\n",
    "            return count\n",
    "        while summ < x-1:\n",
    "            count += 1\n",
    "            summ += summ + 1\n",
    "            if summ >= n:\n",
    "                return count\n",
    "        summ += x\n",
    "    while summ + 1 <= n:\n",
    "        count += 1\n",
    "        summ += summ + 1\n",
    "    return count"
   ]
  },
  {
   "cell_type": "code",
   "execution_count": 5,
   "metadata": {
    "collapsed": false
   },
   "outputs": [
    {
     "data": {
      "text/plain": [
       "2"
      ]
     },
     "execution_count": 5,
     "metadata": {},
     "output_type": "execute_result"
    }
   ],
   "source": [
    "minPatches([1,5,10], 20)"
   ]
  },
  {
   "cell_type": "markdown",
   "metadata": {
    "collapsed": true
   },
   "source": [
    "https://leetcode.com/discuss/82822/solution-explanation,\n",
    "https://leetcode.com/discuss/82849/greedy-solution-in-python"
   ]
  },
  {
   "cell_type": "markdown",
   "metadata": {},
   "source": [
    "# 63 Unique Paths II\n",
    "\n",
    "Follow up for \"Unique Paths\":\n",
    "\n",
    "Now consider if some obstacles are added to the grids. How many unique paths would there be?\n",
    "\n",
    "An obstacle and empty space is marked as 1 and 0 respectively in the grid.\n",
    "\n",
    "For example,\n",
    "\n",
    "There is one obstacle in the middle of a 3x3 grid as illustrated below."
   ]
  },
  {
   "cell_type": "raw",
   "metadata": {},
   "source": [
    "[\n",
    "  [0,0,0],\n",
    "  [0,1,0],\n",
    "  [0,0,0]\n",
    "]"
   ]
  },
  {
   "cell_type": "markdown",
   "metadata": {},
   "source": [
    "The total number of unique paths is 2.\n",
    "\n",
    "Note: m and n will be at most 100."
   ]
  },
  {
   "cell_type": "code",
   "execution_count": 6,
   "metadata": {
    "collapsed": true
   },
   "outputs": [],
   "source": [
    "def uniquePathsWithObstacles(obstacleGrid):\n",
    "    \"\"\"\n",
    "    :type obstacleGrid: List[List[int]]\n",
    "    :rtype: int\n",
    "    \"\"\"\n",
    "    m = len(obstacleGrid)\n",
    "    n = len(obstacleGrid[0])\n",
    "\n",
    "    resGrid = [[0 for x in range(n+1)] for x in range(m+1)]\n",
    "    resGrid [0][1] = 1\n",
    "    for i in range(1, m+1):\n",
    "        for j in range(1, n+1):\n",
    "            if not obstacleGrid[i-1][j-1]:\n",
    "                resGrid[i][j] = resGrid[i][j-1] + resGrid[i-1][j]\n",
    "    return resGrid[m][n]"
   ]
  },
  {
   "cell_type": "code",
   "execution_count": 7,
   "metadata": {
    "collapsed": false
   },
   "outputs": [
    {
     "data": {
      "text/plain": [
       "2"
      ]
     },
     "execution_count": 7,
     "metadata": {},
     "output_type": "execute_result"
    }
   ],
   "source": [
    "obstacleGrid = [[0,0,0],[0,1,0],[0,0,0]]\n",
    "uniquePathsWithObstacles(obstacleGrid)"
   ]
  },
  {
   "cell_type": "markdown",
   "metadata": {},
   "source": [
    "https://leetcode.com/discuss/19681/accepted-simple-python-in-place-solution"
   ]
  },
  {
   "cell_type": "markdown",
   "metadata": {
    "collapsed": true
   },
   "source": [
    "# 16 3Sum Closest\n",
    "\n",
    "Given an array S of n integers, find three integers in S such that the sum is closest to a given number, target. Return the sum of the three integers. You may assume that each input would have exactly one solution.\n",
    "\n",
    "    For example, given array S = {-1 2 1 -4}, and target = 1.\n",
    "\n",
    "    The sum that is closest to the target is 2. (-1 + 2 + 1 = 2)."
   ]
  },
  {
   "cell_type": "code",
   "execution_count": 1,
   "metadata": {
    "collapsed": true
   },
   "outputs": [],
   "source": [
    "def threeSumClosest(nums, target):\n",
    "    \"\"\"\n",
    "    :type nums: List[int]\n",
    "    :type target: int\n",
    "    :rtype: int\n",
    "    \"\"\"\n",
    "    nums.sort()\n",
    "    res = nums[0] + nums[1] + nums[2]\n",
    "    for i in range(len(nums) - 2):\n",
    "        j, k = i+1, len(nums)-1\n",
    "        while j < k:\n",
    "            sums = nums[i] + nums[j] + nums[k]\n",
    "            if sums == target:\n",
    "                return sums\n",
    "            if abs(sums - target) < abs(res - target):\n",
    "                res = sums\n",
    "            if sums < target:\n",
    "                j += 1\n",
    "            elif sums > target:\n",
    "                k -= 1\n",
    "    return res"
   ]
  },
  {
   "cell_type": "markdown",
   "metadata": {},
   "source": [
    "two point problem: https://leetcode.com/discuss/27414/python-o-n-2-solution"
   ]
  },
  {
   "cell_type": "markdown",
   "metadata": {},
   "source": [
    "# 106 Construct Binary Tree from Inorder and Postorder Traversal\n",
    "\n",
    "Given inorder and postorder traversal of a tree, construct the binary tree.\n",
    "\n",
    "Note:\n",
    "\n",
    "You may assume that duplicates do not exist in the tree."
   ]
  },
  {
   "cell_type": "code",
   "execution_count": 2,
   "metadata": {
    "collapsed": true
   },
   "outputs": [],
   "source": [
    "# Definition for a binary tree node.\n",
    "class TreeNode(object):\n",
    "    def __init__(self, x):\n",
    "        self.val = x\n",
    "        self.left = None\n",
    "        self.right = None\n",
    "\n",
    "class Solution(object):\n",
    "    def buildTree(self, inorder, postorder):\n",
    "        \"\"\"\n",
    "        :type inorder: List[int]\n",
    "        :type postorder: List[int]\n",
    "        :rtype: TreeNode\n",
    "        \"\"\"\n",
    "        if not inorder or not postorder:\n",
    "            return None\n",
    "        \n",
    "        root = TreeNode(postorder.pop())\n",
    "        inorderIndex = inorder.index(root.val)\n",
    "        root.right = self.buildTree(inorder[inorderIndex+1:], postorder)\n",
    "        root.left = self.buildTree(inorder[:inorderIndex], postorder)\n",
    "        return root"
   ]
  },
  {
   "cell_type": "markdown",
   "metadata": {},
   "source": [
    "https://leetcode.com/discuss/15115/my-comprehension-of-o-n-solution-from-%40hongzhi,\n",
    "a similar problem explanation: http://fisherlei.blogspot.com/2013/01/leetcode-construct-binary-tree-from.html"
   ]
  },
  {
   "cell_type": "markdown",
   "metadata": {},
   "source": [
    "# 95 Unique Binary Search Trees II\n",
    "\n",
    "Given n, generate all structurally unique BST's (binary search trees) that store values 1...n.\n",
    "\n",
    "For example,\n",
    "Given n = 3, your program should return all 5 unique BST's shown below."
   ]
  },
  {
   "cell_type": "raw",
   "metadata": {},
   "source": [
    "   1         3     3      2      1\n",
    "    \\       /     /      / \\      \\\n",
    "     3     2     1      1   3      2\n",
    "    /     /       \\                 \\\n",
    "   2     1         2                 3"
   ]
  },
  {
   "cell_type": "markdown",
   "metadata": {},
   "source": [
    "confused what \"{1,#,2,3}\" means? > read more on how binary tree is serialized on OJ."
   ]
  },
  {
   "cell_type": "code",
   "execution_count": 3,
   "metadata": {
    "collapsed": true
   },
   "outputs": [],
   "source": [
    "# Definition for a binary tree node.\n",
    "# class TreeNode(object):\n",
    "#     def __init__(self, x):\n",
    "#         self.val = x\n",
    "#         self.left = None\n",
    "#         self.right = None\n",
    "\n",
    "class Solution(object):\n",
    "    def generateTrees(self, n):\n",
    "        \"\"\"\n",
    "        :type n: int\n",
    "        :rtype: List[TreeNode]\n",
    "        \"\"\"\n",
    "        if n == 0:\n",
    "            return []\n",
    "        return self.dfs(1, n+1)\n",
    "    \n",
    "    def dfs(self, start, end):\n",
    "        if start == end:\n",
    "            return None\n",
    "        result = []\n",
    "        for i in xrange(start, end):\n",
    "            for j in self.dfs(start, i) or [None]:\n",
    "                for k in self.dfs(i+1, end) or [None]:\n",
    "                    node = TreeNode(i)\n",
    "                    node.left, node.right = j, k\n",
    "                    result.append(node)\n",
    "        return result"
   ]
  },
  {
   "cell_type": "markdown",
   "metadata": {},
   "source": [
    "https://leetcode.com/discuss/61234/recursive-python-solution"
   ]
  },
  {
   "cell_type": "markdown",
   "metadata": {},
   "source": [
    "# 17 Letter Combinations of a Phone Number\n",
    "\n",
    "Given a digit string, return all possible letter combinations that the number could represent.\n",
    "\n",
    "A mapping of digit to letters (just like on the telephone buttons) is given below.\n",
    "\n",
    "<img src = \"telkey.png\">"
   ]
  },
  {
   "cell_type": "raw",
   "metadata": {},
   "source": [
    "Input:Digit string \"23\"\n",
    "Output: [\"ad\", \"ae\", \"af\", \"bd\", \"be\", \"bf\", \"cd\", \"ce\", \"cf\"]."
   ]
  },
  {
   "cell_type": "markdown",
   "metadata": {},
   "source": [
    "Note:\n",
    "\n",
    "Although the above answer is in lexicographical order, your answer could be in any order you want."
   ]
  },
  {
   "cell_type": "code",
   "execution_count": 4,
   "metadata": {
    "collapsed": true
   },
   "outputs": [],
   "source": [
    "def letterCombinations(digits):\n",
    "    \"\"\"\n",
    "    :type digits: str\n",
    "    :rtype: List[str]\n",
    "    \"\"\"\n",
    "    if digits == '':\n",
    "        return []\n",
    "\n",
    "    keypad = {'2': 'abc', '3': 'def', '4': 'ghi', '5': 'jkl', '6': 'mno', '7': 'pqrs', '8': 'tuv', '9': 'wxyz'}\n",
    "    return reduce(lambda acc, digit: [x + y for x in acc for y in keypad[digit]], digits, [''])\n",
    "        "
   ]
  },
  {
   "cell_type": "markdown",
   "metadata": {},
   "source": [
    "It's really cool to use reduce function and lambda..\n",
    "https://leetcode.com/discuss/31384/one-line-python-solution"
   ]
  },
  {
   "cell_type": "markdown",
   "metadata": {},
   "source": [
    "# 105Construct Binary Tree from Preorder and Inorder Traversal\n",
    "\n",
    "Given preorder and inorder traversal of a tree, construct the binary tree.\n",
    "\n",
    "Note:\n",
    "You may assume that duplicates do not exist in the tree."
   ]
  },
  {
   "cell_type": "code",
   "execution_count": 5,
   "metadata": {
    "collapsed": true
   },
   "outputs": [],
   "source": [
    "# Definition for a binary tree node.\n",
    "# class TreeNode(object):\n",
    "#     def __init__(self, x):\n",
    "#         self.val = x\n",
    "#         self.left = None\n",
    "#         self.right = None\n",
    "\n",
    "class Solution(object):\n",
    "    def buildTree(self, preorder, inorder):\n",
    "        \"\"\"\n",
    "        :type preorder: List[int]\n",
    "        :type inorder: List[int]\n",
    "        :rtype: TreeNode\n",
    "        \"\"\"\n",
    "        if not preorder or not inorder:\n",
    "            return None\n",
    "        root = TreeNode(preorder.pop(0))\n",
    "        inorderIndex = inorder.index(root.val)\n",
    "        root.left = self.buildTree(preorder, inorder[:inorderIndex])\n",
    "        root.right = self.buildTree(preorder, inorder[inorderIndex+1:])\n",
    "        return root"
   ]
  },
  {
   "cell_type": "markdown",
   "metadata": {},
   "source": [
    "Almost the same as the postorder and inorder."
   ]
  },
  {
   "cell_type": "markdown",
   "metadata": {},
   "source": [
    "# 103 Binary Tree Zigzag Level Order Traversal\n",
    "\n",
    "Given a binary tree, return the zigzag level order traversal of its nodes' values. (ie, from left to right, then right to left for the next level and alternate between).\n",
    "\n",
    "For example:\n",
    "\n",
    "Given binary tree {3,9,20,#,#,15,7},"
   ]
  },
  {
   "cell_type": "raw",
   "metadata": {},
   "source": [
    "    3\n",
    "   / \\\n",
    "  9  20\n",
    "    /  \\\n",
    "   15   7"
   ]
  },
  {
   "cell_type": "markdown",
   "metadata": {},
   "source": [
    "return its zigzag level order traversal as:"
   ]
  },
  {
   "cell_type": "raw",
   "metadata": {},
   "source": [
    "[\n",
    "  [3],\n",
    "  [20,9],\n",
    "  [15,7]\n",
    "]"
   ]
  },
  {
   "cell_type": "code",
   "execution_count": 6,
   "metadata": {
    "collapsed": true
   },
   "outputs": [],
   "source": [
    "# Definition for a binary tree node.\n",
    "# class TreeNode(object):\n",
    "#     def __init__(self, x):\n",
    "#         self.val = x\n",
    "#         self.left = None\n",
    "#         self.right = None\n",
    "\n",
    "class Solution(object):\n",
    "    def zigzagLevelOrder(self, root):\n",
    "        \"\"\"\n",
    "        :type root: TreeNode\n",
    "        :rtype: List[List[int]]\n",
    "        \"\"\"\n",
    "        if not root:\n",
    "            return []\n",
    "        res, tmp, stack, flag = [], [], [root], 1\n",
    "        while stack:\n",
    "            for i in xrange(len(stack)):\n",
    "                node = stack.pop(0)\n",
    "                tmp += [node.val]\n",
    "                if node.left:\n",
    "                    stack += [node.left]\n",
    "                if node.right:\n",
    "                    stack += [node.right]\n",
    "            res += [tmp[::flag]]\n",
    "            flag *= -1\n",
    "            tmp = []\n",
    "        return res"
   ]
  },
  {
   "cell_type": "markdown",
   "metadata": {},
   "source": [
    "https://leetcode.com/discuss/59912/python-simple-bfs\n",
    "It's a great solutioin with the flag.."
   ]
  },
  {
   "cell_type": "markdown",
   "metadata": {
    "collapsed": true
   },
   "source": [
    "# 236 Lowest Common Ancestor of a Binary Tree\n",
    "\n",
    "Given a binary tree, find the lowest common ancestor (LCA) of two given nodes in the tree.\n",
    "\n",
    "According to the definition of LCA on Wikipedia: “The lowest common ancestor is defined between two nodes v and w as the lowest node in T that has both v and w as descendants (where we allow a node to be a descendant of itself).”"
   ]
  },
  {
   "cell_type": "raw",
   "metadata": {},
   "source": [
    "        _______3______\n",
    "       /              \\\n",
    "    ___5__          ___1__\n",
    "   /      \\        /      \\\n",
    "   6      _2       0       8\n",
    "         /  \\\n",
    "         7   4"
   ]
  },
  {
   "cell_type": "markdown",
   "metadata": {},
   "source": [
    "For example, the lowest common ancestor (LCA) of nodes 5 and 1 is 3. Another example is LCA of nodes 5 and 4 is 5, since a node can be a descendant of itself according to the LCA definition."
   ]
  },
  {
   "cell_type": "code",
   "execution_count": null,
   "metadata": {
    "collapsed": true
   },
   "outputs": [],
   "source": [
    "# Definition for a binary tree node.\n",
    "# class TreeNode(object):\n",
    "#     def __init__(self, x):\n",
    "#         self.val = x\n",
    "#         self.left = None\n",
    "#         self.right = None\n",
    "\n",
    "class Solution(object):\n",
    "    def lowestCommonAncestor(self, root, p, q):\n",
    "        \"\"\"\n",
    "        :type root: TreeNode\n",
    "        :type p: TreeNode\n",
    "        :type q: TreeNode\n",
    "        :rtype: TreeNode\n",
    "        \"\"\"\n",
    "        if root in (None, p, q):\n",
    "            return root\n",
    "        left = self.lowestCommonAncestor(root.left, p, q)\n",
    "        right = self.lowestCommonAncestor(root.right, p,q)\n",
    "        return root if left and right else left or right"
   ]
  },
  {
   "cell_type": "markdown",
   "metadata": {
    "collapsed": true
   },
   "source": [
    "https://leetcode.com/discuss/45386/4-lines-c-java-python-ruby"
   ]
  },
  {
   "cell_type": "markdown",
   "metadata": {},
   "source": [
    "# 264 Ugly Number II\n",
    "\n",
    "Write a program to find the n-th ugly number.\n",
    "\n",
    "Ugly numbers are positive numbers whose prime factors only include 2, 3, 5. For example, 1, 2, 3, 4, 5, 6, 8, 9, 10, 12 is the sequence of the first 10 ugly numbers.\n",
    "\n",
    "Note that 1 is typically treated as an ugly number.\n",
    "\n",
    "Hint:\n",
    "\n",
    "1. The naive approach is to call isUgly for every number until you reach the nth one. Most numbers are not ugly. Try to focus your effort on generating only the ugly ones.\n",
    "2. An ugly number must be multiplied by either 2, 3, or 5 from a smaller ugly number.\n",
    "3. The key is how to maintain the order of the ugly numbers. Try a similar approach of merging from three sorted lists: L1, L2, and L3.\n",
    "4. Assume you have Uk, the kth ugly number. Then Uk+1 must be Min(L1 * 2, L2 * 3, L3 * 5)."
   ]
  },
  {
   "cell_type": "code",
   "execution_count": 2,
   "metadata": {
    "collapsed": true
   },
   "outputs": [],
   "source": [
    "def nthUglyNumber(n):\n",
    "    \"\"\"\n",
    "    :type n: int\n",
    "    :rtype: int\n",
    "    \"\"\"\n",
    "    ugly = [1]\n",
    "    i2, i3, i5 = 0, 0, 0\n",
    "    while n > 1:\n",
    "        u2, u3, u5 = ugly[i2] * 2, ugly[i3] * 3, ugly[i5] * 5\n",
    "        umin = min(u2, u3, u5)\n",
    "        if umin == u2:\n",
    "            i2 += 1\n",
    "        if umin == u3:\n",
    "            i3 += 1\n",
    "        if umin == u5:\n",
    "            i5 += 1\n",
    "        ugly.append(umin)\n",
    "        n -= 1\n",
    "    return ugly[-1]"
   ]
  },
  {
   "cell_type": "markdown",
   "metadata": {
    "collapsed": true
   },
   "source": [
    "The idea is https://leetcode.com/discuss/52716/o-n-java-solution. Reference is http://www.geeksforgeeks.org/ugly-numbers/, python solution: https://leetcode.com/discuss/57156/my-expressive-python-solution"
   ]
  },
  {
   "cell_type": "markdown",
   "metadata": {},
   "source": [
    "# 113 Path Sum II\n",
    "\n",
    "Given a binary tree and a sum, find all root-to-leaf paths where each path's sum equals the given sum.\n",
    "\n",
    "For example:\n",
    "\n",
    "Given the below binary tree and sum = 22,"
   ]
  },
  {
   "cell_type": "raw",
   "metadata": {},
   "source": [
    "              5\n",
    "             / \\\n",
    "            4   8\n",
    "           /   / \\\n",
    "          11  13  4\n",
    "         /  \\    / \\\n",
    "        7    2  5   1"
   ]
  },
  {
   "cell_type": "markdown",
   "metadata": {},
   "source": [
    "return"
   ]
  },
  {
   "cell_type": "raw",
   "metadata": {},
   "source": [
    "[\n",
    "   [5,4,11,2],\n",
    "   [5,8,4,5]\n",
    "]"
   ]
  },
  {
   "cell_type": "code",
   "execution_count": 3,
   "metadata": {
    "collapsed": true
   },
   "outputs": [],
   "source": [
    "# Definition for a binary tree node.\n",
    "# class TreeNode(object):\n",
    "#     def __init__(self, x):\n",
    "#         self.val = x\n",
    "#         self.left = None\n",
    "#         self.right = None\n",
    "\n",
    "class Solution(object):\n",
    "    def pathSum(self, root, sum):\n",
    "        \"\"\"\n",
    "        :type root: TreeNode\n",
    "        :type sum: int\n",
    "        :rtype: List[List[int]]\n",
    "        \"\"\"\n",
    "        if not root:\n",
    "            return []\n",
    "        if root.left == None and root.right == None:\n",
    "            if sum == root.val:\n",
    "                return [[root.val]]\n",
    "            else:\n",
    "                return []\n",
    "        path = self.pathSum(root.left, sum - root.val) + self.pathSum(root.right, sum - root.val)\n",
    "        return [[root.val] + p for p in path]"
   ]
  },
  {
   "cell_type": "markdown",
   "metadata": {
    "collapsed": true
   },
   "source": [
    "Great solution: https://leetcode.com/discuss/41197/short-python-solution"
   ]
  },
  {
   "cell_type": "markdown",
   "metadata": {},
   "source": [
    "# 55 Jump Game \n",
    "\n",
    "Given an array of non-negative integers, you are initially positioned at the first index of the array.\n",
    "\n",
    "Each element in the array represents your maximum jump length at that position.\n",
    "\n",
    "Determine if you are able to reach the last index.\n",
    "\n",
    "For example:\n",
    "A = [2,3,1,1,4], return true.\n",
    "\n",
    "A = [3,2,1,0,4], return false."
   ]
  },
  {
   "cell_type": "code",
   "execution_count": 6,
   "metadata": {
    "collapsed": true
   },
   "outputs": [],
   "source": [
    "def canJump(nums):\n",
    "    \"\"\"\n",
    "    :type nums: List[int]\n",
    "    :rtype: bool\n",
    "    \"\"\"\n",
    "    maxNum = 0\n",
    "    for i in range(len(nums)):\n",
    "        if i > maxNum:\n",
    "            return False\n",
    "        maxNum = max(nums[i]+i,maxNum)\n",
    "    return True"
   ]
  },
  {
   "cell_type": "code",
   "execution_count": 8,
   "metadata": {
    "collapsed": false
   },
   "outputs": [
    {
     "data": {
      "text/plain": [
       "True"
      ]
     },
     "execution_count": 8,
     "metadata": {},
     "output_type": "execute_result"
    }
   ],
   "source": [
    "nums = [2,3,1,1,4]\n",
    "nums2 = [3,2,1,0,4]\n",
    "canJump(nums)\n",
    "#canJump(nums2)"
   ]
  },
  {
   "cell_type": "markdown",
   "metadata": {},
   "source": [
    "# 47 Permutations II\n",
    "\n",
    "Given a collection of numbers that might contain duplicates, return all possible unique permutations.\n",
    "\n",
    "For example,\n",
    "\n",
    "[1,1,2] have the following unique permutations:\n",
    "[1,1,2], [1,2,1], and [2,1,1]."
   ]
  },
  {
   "cell_type": "code",
   "execution_count": null,
   "metadata": {
    "collapsed": true
   },
   "outputs": [],
   "source": [
    "def permuteUnique(nums):\n",
    "    \"\"\"\n",
    "    :type nums: List[int]\n",
    "    :rtype: List[List[int]]\n",
    "    \"\"\"\n",
    "    if not nums:\n",
    "        return []\n",
    "    ret = [[]]\n",
    "    for n in nums:\n",
    "        newRet = []\n",
    "        l = len(ret[-1])\n",
    "        for seq in ret:\n",
    "            for i in range(l, -1, -1):\n",
    "                if i < l and seq[i] == n:\n",
    "                    break\n",
    "                newRet.append(seq[:i] + [n] +seq[i:])\n",
    "            ret = newRet\n",
    "    return ret"
   ]
  },
  {
   "cell_type": "code",
   "execution_count": null,
   "metadata": {
    "collapsed": true
   },
   "outputs": [],
   "source": []
  },
  {
   "cell_type": "markdown",
   "metadata": {},
   "source": [
    "# 92 Reverse Linked List II\n",
    "\n",
    "Reverse a linked list from position m to n. Do it in-place and in one-pass.\n",
    "\n",
    "For example:\n",
    "\n",
    "Given 1->2->3->4->5->NULL, m = 2 and n = 4,\n",
    "\n",
    "return 1->4->3->2->5->NULL.\n",
    "\n",
    "Note:\n",
    "\n",
    "Given m, n satisfy the following condition:\n",
    "1 ≤ m ≤ n ≤ length of list."
   ]
  },
  {
   "cell_type": "code",
   "execution_count": null,
   "metadata": {
    "collapsed": true
   },
   "outputs": [],
   "source": [
    "# Definition for singly-linked list.\n",
    "# class ListNode(object):\n",
    "#     def __init__(self, x):\n",
    "#         self.val = x\n",
    "#         self.next = None\n",
    "\n",
    "class Solution(object):\n",
    "    def reverseBetween(self, head, m, n):\n",
    "        \"\"\"\n",
    "        :type head: ListNode\n",
    "        :type m: int\n",
    "        :type n: int\n",
    "        :rtype: ListNode\n",
    "        \"\"\"\n",
    "        if not head:\n",
    "            return None\n",
    "        dummy = ListNode(0) # create a dummy node to mark the head of this list\n",
    "        dummy.next = head\n",
    "        pre = dummy # make a pointer pre as a marker for the node before reversing\n",
    "        for i in range(m-1):\n",
    "            pre = pre.next\n",
    "\n",
    "        start = pre.next # a pointer to the beginning of a sub-list that will be reversed\n",
    "        then = start.next # a pointer to a node that will be reversed\n",
    "\n",
    "        # 1 - 2 -3 - 4 - 5 ; m=2; n =4 ---> pre = 1, start = 2, then = 3\n",
    "        # dummy-> 1 -> 2 -> 3 -> 4 -> 5\n",
    "    \n",
    "        for i in range(n-m):\n",
    "            start.next = then.next\n",
    "            then.next = pre.next\n",
    "            pre.next = then\n",
    "            then = start.next\n",
    "\n",
    "        # first reversing : dummy->1 - 3 - 2 - 4 - 5; pre = 1, start = 2, then = 4\n",
    "        # second reversing: dummy->1 - 4 - 3 - 2 - 5; pre = 1, start = 2, then = 5 (finish)\n",
    "\n",
    "        return dummy.next\n"
   ]
  },
  {
   "cell_type": "code",
   "execution_count": null,
   "metadata": {
    "collapsed": true
   },
   "outputs": [],
   "source": []
  },
  {
   "cell_type": "markdown",
   "metadata": {
    "collapsed": true
   },
   "source": [
    "# 341 Flatten Nested List Iterator\n",
    "\n",
    "Given a nested list of integers, implement an iterator to flatten it.\n",
    "\n",
    "Each element is either an integer, or a list -- whose elements may also be integers or other lists.\n",
    "\n",
    "###### Example 1:\n",
    "Given the list [[1,1],2,[1,1]],\n",
    "\n",
    "By calling next repeatedly until hasNext returns false, the order of elements returned by next should be: [1,1,2,1,1].\n",
    "\n",
    "###### Example 2:\n",
    "Given the list [1,[4,[6]]],\n",
    "\n",
    "By calling next repeatedly until hasNext returns false, the order of elements returned by next should be: [1,4,6].\n"
   ]
  },
  {
   "cell_type": "code",
   "execution_count": null,
   "metadata": {
    "collapsed": true
   },
   "outputs": [],
   "source": []
  }
 ],
 "metadata": {
  "kernelspec": {
   "display_name": "Python 2",
   "language": "python",
   "name": "python2"
  },
  "language_info": {
   "codemirror_mode": {
    "name": "ipython",
    "version": 2
   },
   "file_extension": ".py",
   "mimetype": "text/x-python",
   "name": "python",
   "nbconvert_exporter": "python",
   "pygments_lexer": "ipython2",
   "version": "2.7.11"
  }
 },
 "nbformat": 4,
 "nbformat_minor": 0
}
